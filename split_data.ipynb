{
 "cells": [
  {
   "cell_type": "code",
   "execution_count": 1,
   "id": "29113af3",
   "metadata": {},
   "outputs": [],
   "source": [
    "import os\n",
    "import shutil\n",
    "import random\n",
    "from sklearn.model_selection import train_test_split"
   ]
  },
  {
   "cell_type": "code",
   "execution_count": 17,
   "id": "4878cd8a",
   "metadata": {},
   "outputs": [],
   "source": [
    "def segregate_dataset(input_dir, output_dir, test_size=0.2, val_size=0.1, random_seed=42):\n",
    "    files_and_dirs = os.listdir(input_dir)\n",
    "    classes = [d for d in files_and_dirs if os.path.isdir(os.path.join(input_dir, d))]\n",
    "    for class_name in classes:\n",
    "        if class_name == '.ipynb_checkpoints':\n",
    "            continue\n",
    "        class_dir = os.path.join(input_dir, class_name)\n",
    "        images = os.listdir(os.path.join(class_dir, 'images'))\n",
    "        masks = os.listdir(os.path.join(class_dir, 'masks'))\n",
    "        \n",
    "        # Split images and masks into train, validation, and test sets\n",
    "        train_images, test_images, train_masks, test_masks = train_test_split(\n",
    "            images, masks, test_size=test_size, random_state=random_seed)\n",
    "        train_images, val_images, train_masks, val_masks = train_test_split(\n",
    "            train_images, train_masks, test_size=val_size/(1-test_size), random_state=random_seed)\n",
    "        \n",
    "        # Create directories for train, validation, and test sets\n",
    "        train_dir = os.path.join(output_dir, 'train', class_name)\n",
    "        val_dir = os.path.join(output_dir, 'validation', class_name)\n",
    "        test_dir = os.path.join(output_dir, 'test', class_name)\n",
    "        os.makedirs(train_dir, exist_ok=True)\n",
    "        os.makedirs(val_dir, exist_ok=True)\n",
    "        os.makedirs(test_dir, exist_ok=True)\n",
    "        \n",
    "        # Move images and masks to respective directories\n",
    "        for image in train_images:\n",
    "            shutil.copy(os.path.join(class_dir, 'images', image), os.path.join(train_dir, image))\n",
    "            #shutil.copy(os.path.join(class_dir, 'masks', image), os.path.join(train_dir, image))\n",
    "        for image in val_images:\n",
    "            shutil.copy(os.path.join(class_dir, 'images', image), os.path.join(val_dir, image))\n",
    "            #shutil.copy(os.path.join(class_dir, 'masks', image), os.path.join(val_dir, image))\n",
    "        for image in test_images:\n",
    "            shutil.copy(os.path.join(class_dir, 'images', image), os.path.join(test_dir, image))\n",
    "            #shutil.copy(os.path.join(class_dir, 'masks', image), os.path.join(test_dir, image))"
   ]
  },
  {
   "cell_type": "code",
   "execution_count": 18,
   "id": "65e7dd37",
   "metadata": {},
   "outputs": [],
   "source": [
    "# Example usage\n",
    "input_directory = 'COVID-19_Radiography_Dataset'\n",
    "output_directory = 'covid_data'\n",
    "segregate_dataset(input_directory, output_directory, test_size=0.2, val_size=0.1, random_seed=42)"
   ]
  },
  {
   "cell_type": "code",
   "execution_count": null,
   "id": "4cca8013",
   "metadata": {},
   "outputs": [],
   "source": []
  }
 ],
 "metadata": {
  "kernelspec": {
   "display_name": "Python 3 (ipykernel)",
   "language": "python",
   "name": "python3"
  },
  "language_info": {
   "codemirror_mode": {
    "name": "ipython",
    "version": 3
   },
   "file_extension": ".py",
   "mimetype": "text/x-python",
   "name": "python",
   "nbconvert_exporter": "python",
   "pygments_lexer": "ipython3",
   "version": "3.8.16"
  }
 },
 "nbformat": 4,
 "nbformat_minor": 5
}
