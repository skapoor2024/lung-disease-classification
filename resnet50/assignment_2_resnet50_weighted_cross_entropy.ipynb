{
 "cells": [
  {
   "cell_type": "code",
   "execution_count": 1,
   "id": "e8f3d50b",
   "metadata": {},
   "outputs": [],
   "source": [
    "import random\n",
    "import numpy as np\n",
    "import tensorflow as tf\n",
    "import matplotlib.pyplot as plt\n",
    "import seaborn as sns\n",
    "import PIL.Image as Image\n",
    "import os\n",
    "import math"
   ]
  },
  {
   "cell_type": "code",
   "execution_count": 2,
   "id": "02b24784-719a-473c-ad68-e0cbfa4cd905",
   "metadata": {},
   "outputs": [],
   "source": [
    "import tensorflow as tf\n",
    "from tensorflow.keras.applications import ResNet50\n",
    "from tensorflow.keras.models import Model\n",
    "from tensorflow.keras.layers import Dense, GlobalAveragePooling2D\n",
    "from tensorflow.keras.optimizers import Adam\n",
    "from tensorflow.keras.losses import categorical_crossentropy\n",
    "from tensorflow.keras.utils import to_categorical\n",
    "from sklearn.utils.class_weight import compute_class_weight\n",
    "from tensorflow.keras.callbacks import LearningRateScheduler\n",
    "from tensorflow.keras.callbacks import EarlyStopping"
   ]
  },
  {
   "cell_type": "code",
   "execution_count": 3,
   "id": "c4cdf343",
   "metadata": {},
   "outputs": [],
   "source": [
    "def lr_schedule(epoch):\n",
    "    initial_lr = 0.001  # Initial learning rate\n",
    "    drop = 0.5  # Learning rate drop factor\n",
    "    epochs_drop = 20.0  # Number of epochs after which learning rate should drop\n",
    "    lr = initial_lr * math.pow(drop, math.floor((1 + epoch) / epochs_drop))\n",
    "    return lr"
   ]
  },
  {
   "cell_type": "code",
   "execution_count": 4,
   "id": "bd619de3",
   "metadata": {},
   "outputs": [],
   "source": [
    "early_stopping = EarlyStopping(monitor='val_loss', patience=10, restore_best_weights=True)"
   ]
  },
  {
   "cell_type": "code",
   "execution_count": 5,
   "id": "ff5a84a9",
   "metadata": {},
   "outputs": [],
   "source": [
    "train_datagen = tf.keras.preprocessing.image.ImageDataGenerator(\n",
    "    #horizontal_flip=True,\n",
    "    #vertical_flip=True,\n",
    "    rescale=1./255.0)\n",
    "test_datagen = tf.keras.preprocessing.image.ImageDataGenerator(rescale=1./255)\n",
    "val_datagen = tf.keras.preprocessing.image.ImageDataGenerator(rescale=1./255)"
   ]
  },
  {
   "cell_type": "code",
   "execution_count": 6,
   "id": "16131236",
   "metadata": {},
   "outputs": [
    {
     "name": "stdout",
     "output_type": "stream",
     "text": [
      "Found 14811 images belonging to 4 classes.\n",
      "Found 2119 images belonging to 4 classes.\n",
      "Found 4235 images belonging to 4 classes.\n"
     ]
    }
   ],
   "source": [
    "main_path = os.getcwd() + '/covid_data'\n",
    "\n",
    "train_dataset = train_datagen.flow_from_directory(\n",
    "    directory= main_path + '/train/',\n",
    "    target_size=(224, 224),\n",
    "    color_mode=\"rgb\",\n",
    "    batch_size=32,\n",
    "    class_mode=\"categorical\",\n",
    "    shuffle=True,\n",
    "    seed=None)\n",
    "\n",
    "val_dataset = val_datagen.flow_from_directory(\n",
    "    directory = main_path + '/validation',\n",
    "    target_size=(224, 224),\n",
    "    color_mode=\"rgb\",\n",
    "    batch_size=128,\n",
    "    class_mode=\"categorical\",\n",
    "    shuffle=False,\n",
    "    seed=None)\n",
    "\n",
    "test_dataset = test_datagen.flow_from_directory(\n",
    "    directory = main_path + '/test',\n",
    "    target_size=(224, 224),\n",
    "    color_mode=\"rgb\",\n",
    "    batch_size=128,\n",
    "    class_mode=\"categorical\",\n",
    "    shuffle=False,\n",
    "    seed=None)"
   ]
  },
  {
   "cell_type": "code",
   "execution_count": 7,
   "id": "9541ee29-072f-4ce2-87f4-da8fea98620b",
   "metadata": {},
   "outputs": [
    {
     "name": "stdout",
     "output_type": "stream",
     "text": [
      "Image Shape: (32, 224, 224, 3)\n",
      "Label Shape: (32, 4)\n"
     ]
    }
   ],
   "source": [
    "for image_batch, labels_batch in train_dataset:\n",
    "  print('Image Shape: {}'.format(image_batch.shape))\n",
    "  print('Label Shape: {}'.format(labels_batch.shape))\n",
    "  break"
   ]
  },
  {
   "cell_type": "code",
   "execution_count": 8,
   "id": "492ed8e0",
   "metadata": {},
   "outputs": [
    {
     "name": "stdout",
     "output_type": "stream",
     "text": [
      "Class Weights: {0: 1.46, 1: 0.88, 2: 0.52, 3: 3.93}\n"
     ]
    },
    {
     "name": "stderr",
     "output_type": "stream",
     "text": [
      "/usr/local/anaconda3/lib/python3.8/site-packages/sklearn/utils/validation.py:70: FutureWarning: Pass classes=[0, 1, 2, 3], y=[0 0 0 ... 3 3 3] as keyword args. From version 1.0 (renaming of 0.25) passing these as positional arguments will result in an error\n",
      "  warnings.warn(f\"Pass {args_msg} as keyword args. From version \"\n"
     ]
    }
   ],
   "source": [
    "# Compute class weights based on the generator's class frequencies\n",
    "class_labels = list(train_dataset.class_indices.values())\n",
    "class_weights = compute_class_weight('balanced', class_labels, train_dataset.classes)\n",
    "class_weights = np.round(class_weights,2)\n",
    "# Map class indices to class weights\n",
    "class_weight_dict = dict(enumerate(class_weights))\n",
    "\n",
    "print(\"Class Weights:\", class_weight_dict)"
   ]
  },
  {
   "cell_type": "code",
   "execution_count": 9,
   "id": "75e37f92-7150-435b-b58a-dbd6b09b66ea",
   "metadata": {},
   "outputs": [],
   "source": [
    "# Load pre-trained ResNet50 model with pre-trained weights and without top layers\n",
    "os.environ[\"CUDA_VISIBLE_DEVICES\"] = \"3\"\n",
    "base_model = ResNet50(weights='imagenet', include_top=False)\n",
    "\n",
    "# Freeze the convolutional layers\n",
    "for layer in base_model.layers:\n",
    "    layer.trainable = False\n",
    "\n",
    "# Add custom classification layers\n",
    "x = base_model.output\n",
    "x = GlobalAveragePooling2D()(x)\n",
    "predictions = Dense(4, activation='softmax')(x)\n",
    "model = Model(inputs=base_model.input, outputs=predictions)\n",
    "\n",
    "# Compile the model\n",
    "model.compile(optimizer=Adam(), loss=categorical_crossentropy, metrics=['categorical_accuracy'])"
   ]
  },
  {
   "cell_type": "code",
   "execution_count": 10,
   "id": "93839cf6-30a5-4bd6-b772-6f8803123915",
   "metadata": {},
   "outputs": [
    {
     "name": "stdout",
     "output_type": "stream",
     "text": [
      "Epoch 1/75\n",
      "463/463 [==============================] - 105s 219ms/step - loss: 1.3666 - categorical_accuracy: 0.2880 - val_loss: 1.3632 - val_categorical_accuracy: 0.1803\n",
      "Epoch 2/75\n",
      "463/463 [==============================] - 102s 220ms/step - loss: 1.2860 - categorical_accuracy: 0.3856 - val_loss: 1.2177 - val_categorical_accuracy: 0.5521\n",
      "Epoch 3/75\n",
      "463/463 [==============================] - 104s 224ms/step - loss: 1.2359 - categorical_accuracy: 0.4424 - val_loss: 1.2602 - val_categorical_accuracy: 0.3034\n",
      "Epoch 4/75\n",
      "463/463 [==============================] - 105s 226ms/step - loss: 1.2003 - categorical_accuracy: 0.4643 - val_loss: 1.3167 - val_categorical_accuracy: 0.2978\n",
      "Epoch 5/75\n",
      "463/463 [==============================] - 104s 224ms/step - loss: 1.1727 - categorical_accuracy: 0.4688 - val_loss: 1.0670 - val_categorical_accuracy: 0.6220\n",
      "Epoch 6/75\n",
      "463/463 [==============================] - 100s 216ms/step - loss: 1.1391 - categorical_accuracy: 0.5137 - val_loss: 1.1780 - val_categorical_accuracy: 0.5262\n",
      "Epoch 7/75\n",
      "463/463 [==============================] - 102s 220ms/step - loss: 1.1144 - categorical_accuracy: 0.5170 - val_loss: 1.0908 - val_categorical_accuracy: 0.5470\n",
      "Epoch 8/75\n",
      "463/463 [==============================] - 102s 219ms/step - loss: 1.0978 - categorical_accuracy: 0.5108 - val_loss: 1.1887 - val_categorical_accuracy: 0.5229\n",
      "Epoch 9/75\n",
      "463/463 [==============================] - 100s 215ms/step - loss: 1.0753 - categorical_accuracy: 0.5355 - val_loss: 1.0631 - val_categorical_accuracy: 0.5880\n",
      "Epoch 10/75\n",
      "463/463 [==============================] - 101s 218ms/step - loss: 1.0594 - categorical_accuracy: 0.5471 - val_loss: 1.1433 - val_categorical_accuracy: 0.5479\n",
      "Epoch 11/75\n",
      "463/463 [==============================] - 104s 224ms/step - loss: 1.0409 - categorical_accuracy: 0.5561 - val_loss: 1.0546 - val_categorical_accuracy: 0.5772\n",
      "Epoch 12/75\n",
      "463/463 [==============================] - 102s 221ms/step - loss: 1.0269 - categorical_accuracy: 0.5605 - val_loss: 1.0179 - val_categorical_accuracy: 0.5975\n",
      "Epoch 13/75\n",
      "463/463 [==============================] - 102s 221ms/step - loss: 1.0175 - categorical_accuracy: 0.5624 - val_loss: 1.0545 - val_categorical_accuracy: 0.5932\n",
      "Epoch 14/75\n",
      "463/463 [==============================] - 110s 239ms/step - loss: 1.0022 - categorical_accuracy: 0.5632 - val_loss: 1.0574 - val_categorical_accuracy: 0.4965\n",
      "Epoch 15/75\n",
      "463/463 [==============================] - 106s 229ms/step - loss: 0.9932 - categorical_accuracy: 0.5652 - val_loss: 0.9967 - val_categorical_accuracy: 0.5941\n",
      "Epoch 16/75\n",
      "463/463 [==============================] - 106s 228ms/step - loss: 0.9826 - categorical_accuracy: 0.5717 - val_loss: 1.0901 - val_categorical_accuracy: 0.5347\n",
      "Epoch 17/75\n",
      "463/463 [==============================] - 101s 217ms/step - loss: 0.9708 - categorical_accuracy: 0.5754 - val_loss: 0.9823 - val_categorical_accuracy: 0.6262\n",
      "Epoch 18/75\n",
      "463/463 [==============================] - 100s 216ms/step - loss: 0.9630 - categorical_accuracy: 0.5801 - val_loss: 1.0411 - val_categorical_accuracy: 0.5710\n",
      "Epoch 19/75\n",
      "463/463 [==============================] - 102s 221ms/step - loss: 0.9554 - categorical_accuracy: 0.5831 - val_loss: 0.9963 - val_categorical_accuracy: 0.5946\n",
      "Epoch 20/75\n",
      "463/463 [==============================] - 101s 217ms/step - loss: 0.9380 - categorical_accuracy: 0.5930 - val_loss: 0.9828 - val_categorical_accuracy: 0.6107\n",
      "Epoch 21/75\n",
      "463/463 [==============================] - 100s 216ms/step - loss: 0.9364 - categorical_accuracy: 0.5937 - val_loss: 1.0095 - val_categorical_accuracy: 0.5474\n",
      "Epoch 22/75\n",
      "463/463 [==============================] - 101s 218ms/step - loss: 0.9310 - categorical_accuracy: 0.6023 - val_loss: 1.0145 - val_categorical_accuracy: 0.5984\n",
      "Epoch 23/75\n",
      "463/463 [==============================] - 102s 221ms/step - loss: 0.9289 - categorical_accuracy: 0.5971 - val_loss: 1.0946 - val_categorical_accuracy: 0.5701\n",
      "Epoch 24/75\n",
      "463/463 [==============================] - 101s 217ms/step - loss: 0.9248 - categorical_accuracy: 0.5932 - val_loss: 0.9505 - val_categorical_accuracy: 0.6201\n",
      "Epoch 25/75\n",
      "463/463 [==============================] - 101s 218ms/step - loss: 0.9209 - categorical_accuracy: 0.5979 - val_loss: 1.0071 - val_categorical_accuracy: 0.5927\n",
      "Epoch 26/75\n",
      "463/463 [==============================] - 102s 221ms/step - loss: 0.9149 - categorical_accuracy: 0.6049 - val_loss: 0.9578 - val_categorical_accuracy: 0.6220\n",
      "Epoch 27/75\n",
      "463/463 [==============================] - 101s 219ms/step - loss: 0.9136 - categorical_accuracy: 0.5964 - val_loss: 0.9775 - val_categorical_accuracy: 0.6017\n",
      "Epoch 28/75\n",
      "463/463 [==============================] - 102s 220ms/step - loss: 0.9104 - categorical_accuracy: 0.6027 - val_loss: 1.0171 - val_categorical_accuracy: 0.5960\n",
      "Epoch 29/75\n",
      "463/463 [==============================] - 101s 218ms/step - loss: 0.9055 - categorical_accuracy: 0.6011 - val_loss: 0.9650 - val_categorical_accuracy: 0.6140\n",
      "Epoch 30/75\n",
      "463/463 [==============================] - 102s 220ms/step - loss: 0.9020 - categorical_accuracy: 0.6039 - val_loss: 0.9453 - val_categorical_accuracy: 0.6163\n",
      "Epoch 31/75\n",
      "463/463 [==============================] - 101s 218ms/step - loss: 0.8974 - categorical_accuracy: 0.6096 - val_loss: 1.0133 - val_categorical_accuracy: 0.5913\n",
      "Epoch 32/75\n",
      "463/463 [==============================] - 101s 218ms/step - loss: 0.8969 - categorical_accuracy: 0.6063 - val_loss: 1.0116 - val_categorical_accuracy: 0.5908\n",
      "Epoch 33/75\n",
      "463/463 [==============================] - 98s 212ms/step - loss: 0.8954 - categorical_accuracy: 0.6062 - val_loss: 0.9905 - val_categorical_accuracy: 0.5960\n",
      "Epoch 34/75\n",
      "463/463 [==============================] - 92s 199ms/step - loss: 0.8899 - categorical_accuracy: 0.6080 - val_loss: 0.9291 - val_categorical_accuracy: 0.5805\n",
      "Epoch 35/75\n",
      "463/463 [==============================] - 94s 204ms/step - loss: 0.8876 - categorical_accuracy: 0.6074 - val_loss: 1.0056 - val_categorical_accuracy: 0.5753\n",
      "Epoch 36/75\n",
      "463/463 [==============================] - 93s 201ms/step - loss: 0.8828 - categorical_accuracy: 0.6077 - val_loss: 0.9413 - val_categorical_accuracy: 0.6135\n",
      "Epoch 37/75\n",
      "463/463 [==============================] - 91s 197ms/step - loss: 0.8824 - categorical_accuracy: 0.6100 - val_loss: 0.9905 - val_categorical_accuracy: 0.6074\n",
      "Epoch 38/75\n",
      "463/463 [==============================] - 92s 199ms/step - loss: 0.8781 - categorical_accuracy: 0.6124 - val_loss: 1.0167 - val_categorical_accuracy: 0.5890\n",
      "Epoch 39/75\n",
      "463/463 [==============================] - 94s 203ms/step - loss: 0.8755 - categorical_accuracy: 0.6153 - val_loss: 0.8944 - val_categorical_accuracy: 0.6395\n",
      "Epoch 40/75\n",
      "463/463 [==============================] - 92s 199ms/step - loss: 0.8700 - categorical_accuracy: 0.6193 - val_loss: 0.9773 - val_categorical_accuracy: 0.5989\n",
      "Epoch 41/75\n",
      "463/463 [==============================] - 93s 201ms/step - loss: 0.8676 - categorical_accuracy: 0.6187 - val_loss: 0.9437 - val_categorical_accuracy: 0.5979\n",
      "Epoch 42/75\n",
      "463/463 [==============================] - 95s 205ms/step - loss: 0.8670 - categorical_accuracy: 0.6194 - val_loss: 0.9228 - val_categorical_accuracy: 0.6248\n",
      "Epoch 43/75\n",
      "463/463 [==============================] - 93s 201ms/step - loss: 0.8662 - categorical_accuracy: 0.6180 - val_loss: 0.9125 - val_categorical_accuracy: 0.6380\n",
      "Epoch 44/75\n",
      "463/463 [==============================] - 95s 205ms/step - loss: 0.8644 - categorical_accuracy: 0.6214 - val_loss: 0.9578 - val_categorical_accuracy: 0.6229\n",
      "Epoch 45/75\n",
      "463/463 [==============================] - 95s 206ms/step - loss: 0.8644 - categorical_accuracy: 0.6166 - val_loss: 0.9271 - val_categorical_accuracy: 0.6357\n",
      "Epoch 46/75\n",
      "463/463 [==============================] - 97s 209ms/step - loss: 0.8620 - categorical_accuracy: 0.6226 - val_loss: 0.9540 - val_categorical_accuracy: 0.5937\n",
      "Epoch 47/75\n",
      "463/463 [==============================] - 94s 204ms/step - loss: 0.8600 - categorical_accuracy: 0.6192 - val_loss: 0.9200 - val_categorical_accuracy: 0.6272\n",
      "Epoch 48/75\n",
      "463/463 [==============================] - 96s 207ms/step - loss: 0.8593 - categorical_accuracy: 0.6196 - val_loss: 0.9480 - val_categorical_accuracy: 0.6092\n",
      "Epoch 49/75\n"
     ]
    },
    {
     "name": "stdout",
     "output_type": "stream",
     "text": [
      "463/463 [==============================] - 96s 206ms/step - loss: 0.8594 - categorical_accuracy: 0.6199 - val_loss: 0.9545 - val_categorical_accuracy: 0.6102\n"
     ]
    }
   ],
   "source": [
    "history = model.fit(train_dataset, validation_data=val_dataset,epochs=75,callbacks=[LearningRateScheduler(lr_schedule),early_stopping],class_weight = class_weight_dict)"
   ]
  },
  {
   "cell_type": "code",
   "execution_count": 13,
   "id": "5c33eac1-bac3-435b-90d3-0e96ba0ab48c",
   "metadata": {},
   "outputs": [
    {
     "data": {
      "text/plain": [
       "<matplotlib.legend.Legend at 0x7fb288966490>"
      ]
     },
     "execution_count": 13,
     "metadata": {},
     "output_type": "execute_result"
    },
    {
     "data": {
      "image/png": "[encoded data removed]",
      "text/plain": [
       "<Figure size 1440x1440 with 2 Axes>"
      ]
     },
     "metadata": {
      "needs_background": "light"
     },
     "output_type": "display_data"
    }
   ],
   "source": [
    "plt.figure(figsize = (20, 20))\n",
    "plt.subplot(341)\n",
    "plt.plot(history.history['loss'], color='blue', linestyle = 'dashdot', label='Train')\n",
    "plt.plot(history.history['val_loss'], color='red', linestyle=\"solid\", label='Val')\n",
    "plt.xlabel('Epoch')\n",
    "plt.ylabel('Loss')\n",
    "plt.title('Loss')\n",
    "plt.grid(visible = True, which = 'both', color= 'r', linestyle = 'dotted')\n",
    "plt.legend()\n",
    "\n",
    "plt.subplot(343)\n",
    "plt.plot(history.history['categorical_accuracy'], color='blue', linestyle = 'dashdot', label='Train')\n",
    "plt.plot(history.history['val_categorical_accuracy'], color='red', linestyle=\"solid\", label='Val')\n",
    "# plt.xticks(np.arange(0, 31, step=2))  # Set label locations.\n",
    "plt.xlabel('Epoch')\n",
    "plt.ylabel('Accuracy')\n",
    "plt.title('Accuracy')\n",
    "plt.grid(visible = True, which = 'both', color= 'r', linestyle = 'dotted')\n",
    "plt.legend()"
   ]
  },
  {
   "cell_type": "code",
   "execution_count": null,
   "id": "43dff6c0",
   "metadata": {},
   "outputs": [],
   "source": []
  }
 ],
 "metadata": {
  "kernelspec": {
   "display_name": "Python 3",
   "language": "python",
   "name": "python3"
  },
  "language_info": {
   "codemirror_mode": {
    "name": "ipython",
    "version": 3
   },
   "file_extension": ".py",
   "mimetype": "text/x-python",
   "name": "python",
   "nbconvert_exporter": "python",
   "pygments_lexer": "ipython3",
   "version": "3.8.8"
  }
 },
 "nbformat": 4,
 "nbformat_minor": 5
}
