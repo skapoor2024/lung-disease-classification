{
 "cells": [
  {
   "cell_type": "code",
   "execution_count": 1,
   "id": "e8f3d50b",
   "metadata": {},
   "outputs": [],
   "source": [
    "import random\n",
    "import numpy as np\n",
    "import tensorflow as tf\n",
    "import matplotlib.pyplot as plt\n",
    "import seaborn as sns\n",
    "import PIL.Image as Image\n",
    "import os\n",
    "import math"
   ]
  },
  {
   "cell_type": "code",
   "execution_count": 2,
   "id": "02b24784-719a-473c-ad68-e0cbfa4cd905",
   "metadata": {},
   "outputs": [],
   "source": [
    "import tensorflow as tf\n",
    "from tensorflow.keras.applications import ResNet50\n",
    "from tensorflow.keras.models import Model\n",
    "from tensorflow.keras.layers import Dense, GlobalAveragePooling2D\n",
    "from tensorflow.keras.optimizers import Adam\n",
    "from tensorflow.keras.losses import categorical_crossentropy\n",
    "from tensorflow.keras.utils import to_categorical\n",
    "from tensorflow.keras.callbacks import LearningRateScheduler\n",
    "from tensorflow.keras.callbacks import EarlyStopping"
   ]
  },
  {
   "cell_type": "code",
   "execution_count": 3,
   "id": "c9faa264",
   "metadata": {},
   "outputs": [],
   "source": [
    "from sklearn.utils.class_weight import compute_class_weight"
   ]
  },
  {
   "cell_type": "code",
   "execution_count": 4,
   "id": "5fd60a3c",
   "metadata": {},
   "outputs": [],
   "source": [
    "def focal_categorical_crossentropy(target,output,alpha = 1.0,gamma = 2.0,axis = -1):\n",
    "    \n",
    "    target = tf.convert_to_tensor(target)\n",
    "    output = tf.convert_to_tensor(output)\n",
    "    target.shape.assert_is_compatible_with(output.shape)\n",
    "    output = output / tf.reduce_sum(output, axis=axis, keepdims=True)\n",
    "\n",
    "    epsilon_ = tf.constant(1e-7, dtype = output.dtype.base_dtype)\n",
    "    output = tf.clip_by_value(output, epsilon_, 1.0 - epsilon_)\n",
    "\n",
    "    # Calculate cross entropy\n",
    "    cce = -target * tf.math.log(output)\n",
    "\n",
    "    # Calculate factors\n",
    "    modulating_factor = tf.pow(1.0 - output, gamma)\n",
    "    weighting_factor = tf.multiply(modulating_factor, alpha)\n",
    "\n",
    "    # Apply weighting factor\n",
    "    focal_cce = tf.multiply(weighting_factor, cce)\n",
    "    focal_cce = tf.reduce_sum(focal_cce, axis=axis)\n",
    "    return focal_cce"
   ]
  },
  {
   "cell_type": "code",
   "execution_count": 5,
   "id": "a529fc42",
   "metadata": {},
   "outputs": [],
   "source": [
    "def lr_schedule(epoch):\n",
    "    initial_lr = 0.0001  # Initial learning rate\n",
    "    drop = 0.5  # Learning rate drop factor\n",
    "    epochs_drop = 20.0  # Number of epochs after which learning rate should drop\n",
    "    lr = initial_lr * math.pow(drop, math.floor((1 + epoch) / epochs_drop))\n",
    "    return max(lr,0.00001)"
   ]
  },
  {
   "cell_type": "code",
   "execution_count": 6,
   "id": "c6c2bc23",
   "metadata": {},
   "outputs": [],
   "source": [
    "early_stopping = EarlyStopping(monitor='val_loss', patience=20, restore_best_weights=True)\n",
    "\n",
    "gpus = tf.config.experimental.list_physical_devices('GPU')\n",
    "if gpus:\n",
    "    for gpu in gpus:\n",
    "        tf.config.experimental.set_memory_growth(gpu, True)\n"
   ]
  },
  {
   "cell_type": "code",
   "execution_count": 7,
   "id": "ff5a84a9",
   "metadata": {},
   "outputs": [],
   "source": [
    "train_datagen = tf.keras.preprocessing.image.ImageDataGenerator(\n",
    "    #horizontal_flip=True,\n",
    "    #vertical_flip=True,\n",
    "    rescale=1./255.0)\n",
    "test_datagen = tf.keras.preprocessing.image.ImageDataGenerator(rescale=1./255)\n",
    "val_datagen = tf.keras.preprocessing.image.ImageDataGenerator(rescale=1./255)"
   ]
  },
  {
   "cell_type": "code",
   "execution_count": 8,
   "id": "16131236",
   "metadata": {},
   "outputs": [
    {
     "name": "stdout",
     "output_type": "stream",
     "text": [
      "Found 14811 images belonging to 4 classes.\n",
      "Found 2119 images belonging to 4 classes.\n",
      "Found 4235 images belonging to 4 classes.\n"
     ]
    }
   ],
   "source": [
    "main_path = os.getcwd() + '/covid_data'\n",
    "\n",
    "train_dataset = train_datagen.flow_from_directory(\n",
    "    directory= main_path + '/train/',\n",
    "    target_size=(224, 224),\n",
    "    color_mode=\"rgb\",\n",
    "    batch_size=32,\n",
    "    class_mode=\"categorical\",\n",
    "    shuffle=True,\n",
    "    seed=None)\n",
    "\n",
    "val_dataset = val_datagen.flow_from_directory(\n",
    "    directory = main_path + '/validation',\n",
    "    target_size=(224, 224),\n",
    "    color_mode=\"rgb\",\n",
    "    batch_size=32,\n",
    "    class_mode=\"categorical\",\n",
    "    shuffle=False,\n",
    "    seed=None)\n",
    "\n",
    "test_dataset = test_datagen.flow_from_directory(\n",
    "    directory = main_path + '/test',\n",
    "    target_size=(224, 224),\n",
    "    color_mode=\"rgb\",\n",
    "    batch_size=32,\n",
    "    class_mode=\"categorical\",\n",
    "    shuffle=False,\n",
    "    seed=None)"
   ]
  },
  {
   "cell_type": "code",
   "execution_count": 9,
   "id": "9541ee29-072f-4ce2-87f4-da8fea98620b",
   "metadata": {
    "scrolled": true
   },
   "outputs": [
    {
     "name": "stdout",
     "output_type": "stream",
     "text": [
      "Image Shape: (32, 224, 224, 3)\n",
      "Label Shape: (32, 4)\n"
     ]
    }
   ],
   "source": [
    "for image_batch, labels_batch in train_dataset:\n",
    "  print('Image Shape: {}'.format(image_batch.shape))\n",
    "  print('Label Shape: {}'.format(labels_batch.shape))\n",
    "  break"
   ]
  },
  {
   "cell_type": "code",
   "execution_count": 10,
   "id": "354ed969",
   "metadata": {},
   "outputs": [],
   "source": [
    "class_weights = np.round(compute_class_weight('balanced',classes = np.arange(train_dataset.num_classes),y = train_dataset.labels),2)\n",
    "class_weights_dict = dict(zip(np.arange(train_dataset.num_classes), class_weights))"
   ]
  },
  {
   "cell_type": "code",
   "execution_count": 11,
   "id": "75e37f92-7150-435b-b58a-dbd6b09b66ea",
   "metadata": {},
   "outputs": [
    {
     "name": "stdout",
     "output_type": "stream",
     "text": [
      "INFO:tensorflow:Using MirroredStrategy with devices ('/job:localhost/replica:0/task:0/device:GPU:0', '/job:localhost/replica:0/task:0/device:GPU:1', '/job:localhost/replica:0/task:0/device:GPU:2', '/job:localhost/replica:0/task:0/device:GPU:3')\n",
      "INFO:tensorflow:Reduce to /job:localhost/replica:0/task:0/device:CPU:0 then broadcast to ('/job:localhost/replica:0/task:0/device:CPU:0',).\n",
      "INFO:tensorflow:Reduce to /job:localhost/replica:0/task:0/device:CPU:0 then broadcast to ('/job:localhost/replica:0/task:0/device:CPU:0',).\n",
      "INFO:tensorflow:Reduce to /job:localhost/replica:0/task:0/device:CPU:0 then broadcast to ('/job:localhost/replica:0/task:0/device:CPU:0',).\n",
      "INFO:tensorflow:Reduce to /job:localhost/replica:0/task:0/device:CPU:0 then broadcast to ('/job:localhost/replica:0/task:0/device:CPU:0',).\n",
      "INFO:tensorflow:Reduce to /job:localhost/replica:0/task:0/device:CPU:0 then broadcast to ('/job:localhost/replica:0/task:0/device:CPU:0',).\n",
      "INFO:tensorflow:Reduce to /job:localhost/replica:0/task:0/device:CPU:0 then broadcast to ('/job:localhost/replica:0/task:0/device:CPU:0',).\n",
      "INFO:tensorflow:Reduce to /job:localhost/replica:0/task:0/device:CPU:0 then broadcast to ('/job:localhost/replica:0/task:0/device:CPU:0',).\n",
      "INFO:tensorflow:Reduce to /job:localhost/replica:0/task:0/device:CPU:0 then broadcast to ('/job:localhost/replica:0/task:0/device:CPU:0',).\n",
      "INFO:tensorflow:Reduce to /job:localhost/replica:0/task:0/device:CPU:0 then broadcast to ('/job:localhost/replica:0/task:0/device:CPU:0',).\n",
      "INFO:tensorflow:Reduce to /job:localhost/replica:0/task:0/device:CPU:0 then broadcast to ('/job:localhost/replica:0/task:0/device:CPU:0',).\n",
      "Epoch 1/100\n",
      "INFO:tensorflow:batch_all_reduce: 6 all-reduces with algorithm = nccl, num_packs = 1\n",
      "INFO:tensorflow:batch_all_reduce: 6 all-reduces with algorithm = nccl, num_packs = 1\n",
      "463/463 [==============================] - 119s 215ms/step - loss: 0.6069 - categorical_accuracy: 0.4879 - val_loss: 0.5646 - val_categorical_accuracy: 0.4818\n",
      "Epoch 2/100\n",
      "463/463 [==============================] - 97s 209ms/step - loss: 0.5550 - categorical_accuracy: 0.5293 - val_loss: 0.5163 - val_categorical_accuracy: 0.5696\n",
      "Epoch 3/100\n",
      "463/463 [==============================] - 97s 210ms/step - loss: 0.5181 - categorical_accuracy: 0.5581 - val_loss: 0.4861 - val_categorical_accuracy: 0.5871\n",
      "Epoch 4/100\n",
      "463/463 [==============================] - 105s 227ms/step - loss: 0.4787 - categorical_accuracy: 0.5812 - val_loss: 0.4495 - val_categorical_accuracy: 0.5927\n",
      "Epoch 5/100\n",
      "463/463 [==============================] - 103s 222ms/step - loss: 0.4482 - categorical_accuracy: 0.6058 - val_loss: 0.4277 - val_categorical_accuracy: 0.6121\n",
      "Epoch 6/100\n",
      "463/463 [==============================] - 103s 223ms/step - loss: 0.4208 - categorical_accuracy: 0.6228 - val_loss: 0.4101 - val_categorical_accuracy: 0.6428\n",
      "Epoch 7/100\n",
      "463/463 [==============================] - 106s 229ms/step - loss: 0.4017 - categorical_accuracy: 0.6323 - val_loss: 0.3946 - val_categorical_accuracy: 0.6333\n",
      "Epoch 8/100\n",
      "463/463 [==============================] - 104s 224ms/step - loss: 0.3829 - categorical_accuracy: 0.6449 - val_loss: 0.3617 - val_categorical_accuracy: 0.6833\n",
      "Epoch 9/100\n",
      "463/463 [==============================] - 96s 207ms/step - loss: 0.3750 - categorical_accuracy: 0.6492 - val_loss: 0.3570 - val_categorical_accuracy: 0.6546\n",
      "Epoch 10/100\n",
      "463/463 [==============================] - 105s 226ms/step - loss: 0.3677 - categorical_accuracy: 0.6526 - val_loss: 0.3900 - val_categorical_accuracy: 0.6352\n",
      "Epoch 11/100\n",
      "463/463 [==============================] - 98s 211ms/step - loss: 0.3535 - categorical_accuracy: 0.6710 - val_loss: 0.3398 - val_categorical_accuracy: 0.6659\n",
      "Epoch 12/100\n",
      "463/463 [==============================] - 97s 210ms/step - loss: 0.3525 - categorical_accuracy: 0.6701 - val_loss: 0.3259 - val_categorical_accuracy: 0.6951\n",
      "Epoch 13/100\n",
      "463/463 [==============================] - 96s 208ms/step - loss: 0.3358 - categorical_accuracy: 0.6825 - val_loss: 0.3950 - val_categorical_accuracy: 0.6616\n",
      "Epoch 14/100\n",
      "463/463 [==============================] - 92s 198ms/step - loss: 0.3392 - categorical_accuracy: 0.6775 - val_loss: 0.3209 - val_categorical_accuracy: 0.7159\n",
      "Epoch 15/100\n",
      "463/463 [==============================] - 90s 194ms/step - loss: 0.3255 - categorical_accuracy: 0.6914 - val_loss: 0.3138 - val_categorical_accuracy: 0.7069\n",
      "Epoch 16/100\n",
      "463/463 [==============================] - 97s 210ms/step - loss: 0.3254 - categorical_accuracy: 0.6908 - val_loss: 0.3132 - val_categorical_accuracy: 0.6970\n",
      "Epoch 17/100\n",
      "463/463 [==============================] - 98s 212ms/step - loss: 0.3219 - categorical_accuracy: 0.6938 - val_loss: 0.3154 - val_categorical_accuracy: 0.7121\n",
      "Epoch 18/100\n",
      "463/463 [==============================] - 90s 195ms/step - loss: 0.3161 - categorical_accuracy: 0.6959 - val_loss: 0.3487 - val_categorical_accuracy: 0.6748\n",
      "Epoch 19/100\n",
      "463/463 [==============================] - 92s 199ms/step - loss: 0.3086 - categorical_accuracy: 0.7040 - val_loss: 0.3115 - val_categorical_accuracy: 0.7003\n",
      "Epoch 20/100\n",
      "463/463 [==============================] - 92s 198ms/step - loss: 0.2904 - categorical_accuracy: 0.7232 - val_loss: 0.2833 - val_categorical_accuracy: 0.7371\n",
      "Epoch 21/100\n",
      "463/463 [==============================] - 97s 209ms/step - loss: 0.2896 - categorical_accuracy: 0.7197 - val_loss: 0.2852 - val_categorical_accuracy: 0.7414\n",
      "Epoch 22/100\n",
      "463/463 [==============================] - 98s 211ms/step - loss: 0.2839 - categorical_accuracy: 0.7296 - val_loss: 0.2862 - val_categorical_accuracy: 0.7367\n",
      "Epoch 23/100\n",
      "463/463 [==============================] - 94s 204ms/step - loss: 0.2825 - categorical_accuracy: 0.7294 - val_loss: 0.2780 - val_categorical_accuracy: 0.7390\n",
      "Epoch 24/100\n",
      "463/463 [==============================] - 101s 219ms/step - loss: 0.2809 - categorical_accuracy: 0.7291 - val_loss: 0.2947 - val_categorical_accuracy: 0.7088\n",
      "Epoch 25/100\n",
      "463/463 [==============================] - 95s 205ms/step - loss: 0.2842 - categorical_accuracy: 0.7282 - val_loss: 0.3006 - val_categorical_accuracy: 0.7235\n",
      "Epoch 26/100\n",
      "463/463 [==============================] - 94s 202ms/step - loss: 0.2776 - categorical_accuracy: 0.7344 - val_loss: 0.2716 - val_categorical_accuracy: 0.7494\n",
      "Epoch 27/100\n",
      "463/463 [==============================] - 88s 191ms/step - loss: 0.2768 - categorical_accuracy: 0.7311 - val_loss: 0.2701 - val_categorical_accuracy: 0.7518\n",
      "Epoch 28/100\n",
      "463/463 [==============================] - 89s 192ms/step - loss: 0.2756 - categorical_accuracy: 0.7382 - val_loss: 0.3082 - val_categorical_accuracy: 0.6914\n",
      "Epoch 29/100\n",
      "463/463 [==============================] - 95s 205ms/step - loss: 0.2762 - categorical_accuracy: 0.7367 - val_loss: 0.2593 - val_categorical_accuracy: 0.7560\n",
      "Epoch 30/100\n",
      "463/463 [==============================] - 92s 200ms/step - loss: 0.2707 - categorical_accuracy: 0.7357 - val_loss: 0.2629 - val_categorical_accuracy: 0.7584\n",
      "Epoch 31/100\n",
      "463/463 [==============================] - 90s 193ms/step - loss: 0.2724 - categorical_accuracy: 0.7349 - val_loss: 0.2656 - val_categorical_accuracy: 0.7607\n",
      "Epoch 32/100\n",
      "463/463 [==============================] - 89s 192ms/step - loss: 0.2692 - categorical_accuracy: 0.7405 - val_loss: 0.3052 - val_categorical_accuracy: 0.6942\n",
      "Epoch 33/100\n",
      "463/463 [==============================] - 91s 197ms/step - loss: 0.2704 - categorical_accuracy: 0.7373 - val_loss: 0.2664 - val_categorical_accuracy: 0.7461\n",
      "Epoch 34/100\n",
      "463/463 [==============================] - 88s 190ms/step - loss: 0.2667 - categorical_accuracy: 0.7415 - val_loss: 0.3178 - val_categorical_accuracy: 0.7150\n",
      "Epoch 35/100\n",
      "463/463 [==============================] - 88s 190ms/step - loss: 0.2679 - categorical_accuracy: 0.7387 - val_loss: 0.2572 - val_categorical_accuracy: 0.7603\n",
      "Epoch 36/100\n",
      "463/463 [==============================] - 96s 207ms/step - loss: 0.2596 - categorical_accuracy: 0.7458 - val_loss: 0.2520 - val_categorical_accuracy: 0.7640\n",
      "Epoch 37/100\n",
      "463/463 [==============================] - 95s 204ms/step - loss: 0.2627 - categorical_accuracy: 0.7455 - val_loss: 0.2627 - val_categorical_accuracy: 0.7593\n",
      "Epoch 38/100\n"
     ]
    },
    {
     "name": "stdout",
     "output_type": "stream",
     "text": [
      "463/463 [==============================] - 99s 214ms/step - loss: 0.2579 - categorical_accuracy: 0.7515 - val_loss: 0.2601 - val_categorical_accuracy: 0.7570\n",
      "Epoch 39/100\n",
      "463/463 [==============================] - 98s 213ms/step - loss: 0.2602 - categorical_accuracy: 0.7447 - val_loss: 0.2571 - val_categorical_accuracy: 0.7631\n",
      "Epoch 40/100\n",
      "463/463 [==============================] - 105s 226ms/step - loss: 0.2479 - categorical_accuracy: 0.7587 - val_loss: 0.2551 - val_categorical_accuracy: 0.7579\n",
      "Epoch 41/100\n",
      "463/463 [==============================] - 99s 214ms/step - loss: 0.2503 - categorical_accuracy: 0.7587 - val_loss: 0.2443 - val_categorical_accuracy: 0.7692\n",
      "Epoch 42/100\n",
      "463/463 [==============================] - 99s 214ms/step - loss: 0.2461 - categorical_accuracy: 0.7608 - val_loss: 0.2496 - val_categorical_accuracy: 0.7669\n",
      "Epoch 43/100\n",
      "463/463 [==============================] - 100s 216ms/step - loss: 0.2455 - categorical_accuracy: 0.7592 - val_loss: 0.2664 - val_categorical_accuracy: 0.7527\n",
      "Epoch 44/100\n",
      "463/463 [==============================] - 100s 215ms/step - loss: 0.2464 - categorical_accuracy: 0.7592 - val_loss: 0.2403 - val_categorical_accuracy: 0.7773\n",
      "Epoch 45/100\n",
      "463/463 [==============================] - 100s 217ms/step - loss: 0.2443 - categorical_accuracy: 0.7627 - val_loss: 0.2426 - val_categorical_accuracy: 0.7716\n",
      "Epoch 46/100\n",
      "463/463 [==============================] - 99s 214ms/step - loss: 0.2424 - categorical_accuracy: 0.7651 - val_loss: 0.2396 - val_categorical_accuracy: 0.7768\n",
      "Epoch 47/100\n",
      "463/463 [==============================] - 98s 212ms/step - loss: 0.2445 - categorical_accuracy: 0.7630 - val_loss: 0.2384 - val_categorical_accuracy: 0.7725\n",
      "Epoch 48/100\n",
      "463/463 [==============================] - 99s 214ms/step - loss: 0.2435 - categorical_accuracy: 0.7588 - val_loss: 0.2390 - val_categorical_accuracy: 0.7716\n",
      "Epoch 49/100\n",
      "463/463 [==============================] - 106s 229ms/step - loss: 0.2431 - categorical_accuracy: 0.7633 - val_loss: 0.2402 - val_categorical_accuracy: 0.7711\n",
      "Epoch 50/100\n",
      "463/463 [==============================] - 98s 211ms/step - loss: 0.2426 - categorical_accuracy: 0.7597 - val_loss: 0.2409 - val_categorical_accuracy: 0.7673\n",
      "Epoch 51/100\n",
      "463/463 [==============================] - 106s 228ms/step - loss: 0.2395 - categorical_accuracy: 0.7662 - val_loss: 0.2420 - val_categorical_accuracy: 0.7636\n",
      "Epoch 52/100\n",
      "463/463 [==============================] - 108s 234ms/step - loss: 0.2391 - categorical_accuracy: 0.7676 - val_loss: 0.2412 - val_categorical_accuracy: 0.7725\n",
      "Epoch 53/100\n",
      "463/463 [==============================] - 100s 215ms/step - loss: 0.2419 - categorical_accuracy: 0.7637 - val_loss: 0.2442 - val_categorical_accuracy: 0.7636\n",
      "Epoch 54/100\n",
      "463/463 [==============================] - 100s 215ms/step - loss: 0.2385 - categorical_accuracy: 0.7683 - val_loss: 0.2365 - val_categorical_accuracy: 0.7763\n",
      "Epoch 55/100\n",
      "463/463 [==============================] - 99s 213ms/step - loss: 0.2352 - categorical_accuracy: 0.7721 - val_loss: 0.2494 - val_categorical_accuracy: 0.7598\n",
      "Epoch 56/100\n",
      "463/463 [==============================] - 87s 188ms/step - loss: 0.2375 - categorical_accuracy: 0.7686 - val_loss: 0.2385 - val_categorical_accuracy: 0.7730\n",
      "Epoch 57/100\n",
      "463/463 [==============================] - 90s 194ms/step - loss: 0.2368 - categorical_accuracy: 0.7671 - val_loss: 0.2324 - val_categorical_accuracy: 0.7744\n",
      "Epoch 58/100\n",
      "463/463 [==============================] - 90s 195ms/step - loss: 0.2373 - categorical_accuracy: 0.7686 - val_loss: 0.2326 - val_categorical_accuracy: 0.7782\n",
      "Epoch 59/100\n",
      "463/463 [==============================] - 97s 210ms/step - loss: 0.2357 - categorical_accuracy: 0.7694 - val_loss: 0.2293 - val_categorical_accuracy: 0.7843\n",
      "Epoch 60/100\n",
      "463/463 [==============================] - 97s 209ms/step - loss: 0.2275 - categorical_accuracy: 0.7761 - val_loss: 0.2364 - val_categorical_accuracy: 0.7735\n",
      "Epoch 61/100\n",
      "463/463 [==============================] - 91s 196ms/step - loss: 0.2281 - categorical_accuracy: 0.7777 - val_loss: 0.2348 - val_categorical_accuracy: 0.7768\n",
      "Epoch 62/100\n",
      "463/463 [==============================] - 91s 197ms/step - loss: 0.2284 - categorical_accuracy: 0.7760 - val_loss: 0.2288 - val_categorical_accuracy: 0.7787\n",
      "Epoch 63/100\n",
      "463/463 [==============================] - 99s 214ms/step - loss: 0.2273 - categorical_accuracy: 0.7773 - val_loss: 0.2280 - val_categorical_accuracy: 0.7853\n",
      "Epoch 64/100\n",
      "463/463 [==============================] - 89s 191ms/step - loss: 0.2264 - categorical_accuracy: 0.7789 - val_loss: 0.2331 - val_categorical_accuracy: 0.7725\n",
      "Epoch 65/100\n",
      "463/463 [==============================] - 93s 200ms/step - loss: 0.2273 - categorical_accuracy: 0.7762 - val_loss: 0.2492 - val_categorical_accuracy: 0.7574\n",
      "Epoch 66/100\n",
      "463/463 [==============================] - 88s 190ms/step - loss: 0.2249 - categorical_accuracy: 0.7775 - val_loss: 0.2429 - val_categorical_accuracy: 0.7631\n",
      "Epoch 67/100\n",
      "463/463 [==============================] - 91s 197ms/step - loss: 0.2263 - categorical_accuracy: 0.7772 - val_loss: 0.2278 - val_categorical_accuracy: 0.7853\n",
      "Epoch 68/100\n",
      "463/463 [==============================] - 91s 197ms/step - loss: 0.2262 - categorical_accuracy: 0.7778 - val_loss: 0.2372 - val_categorical_accuracy: 0.7688\n",
      "Epoch 69/100\n",
      "463/463 [==============================] - 95s 206ms/step - loss: 0.2243 - categorical_accuracy: 0.7776 - val_loss: 0.2246 - val_categorical_accuracy: 0.7853\n",
      "Epoch 70/100\n",
      "463/463 [==============================] - 86s 185ms/step - loss: 0.2235 - categorical_accuracy: 0.7777 - val_loss: 0.2300 - val_categorical_accuracy: 0.7758\n",
      "Epoch 71/100\n",
      "463/463 [==============================] - 88s 191ms/step - loss: 0.2253 - categorical_accuracy: 0.7781 - val_loss: 0.2262 - val_categorical_accuracy: 0.7810\n",
      "Epoch 72/100\n",
      "463/463 [==============================] - 95s 206ms/step - loss: 0.2238 - categorical_accuracy: 0.7783 - val_loss: 0.2267 - val_categorical_accuracy: 0.7773\n",
      "Epoch 73/100\n",
      "463/463 [==============================] - 93s 200ms/step - loss: 0.2232 - categorical_accuracy: 0.7803 - val_loss: 0.2271 - val_categorical_accuracy: 0.7815\n",
      "Epoch 74/100\n",
      "463/463 [==============================] - 85s 184ms/step - loss: 0.2232 - categorical_accuracy: 0.7792 - val_loss: 0.2262 - val_categorical_accuracy: 0.7909\n",
      "Epoch 75/100\n",
      "463/463 [==============================] - 88s 191ms/step - loss: 0.2223 - categorical_accuracy: 0.7811 - val_loss: 0.2249 - val_categorical_accuracy: 0.7843\n",
      "Epoch 76/100\n",
      "463/463 [==============================] - 91s 196ms/step - loss: 0.2218 - categorical_accuracy: 0.7816 - val_loss: 0.2427 - val_categorical_accuracy: 0.7636\n",
      "Epoch 77/100\n",
      "463/463 [==============================] - 93s 202ms/step - loss: 0.2238 - categorical_accuracy: 0.7778 - val_loss: 0.2288 - val_categorical_accuracy: 0.7796\n",
      "Epoch 78/100\n",
      "463/463 [==============================] - 101s 218ms/step - loss: 0.2229 - categorical_accuracy: 0.7798 - val_loss: 0.2388 - val_categorical_accuracy: 0.7645\n",
      "Epoch 79/100\n",
      "463/463 [==============================] - 100s 217ms/step - loss: 0.2217 - categorical_accuracy: 0.7792 - val_loss: 0.2403 - val_categorical_accuracy: 0.7612\n",
      "Epoch 80/100\n",
      "463/463 [==============================] - 86s 186ms/step - loss: 0.2198 - categorical_accuracy: 0.7825 - val_loss: 0.2273 - val_categorical_accuracy: 0.7862\n",
      "Epoch 81/100\n",
      "463/463 [==============================] - 84s 182ms/step - loss: 0.2189 - categorical_accuracy: 0.7843 - val_loss: 0.2288 - val_categorical_accuracy: 0.7796\n",
      "Epoch 82/100\n",
      "463/463 [==============================] - 88s 191ms/step - loss: 0.2194 - categorical_accuracy: 0.7816 - val_loss: 0.2214 - val_categorical_accuracy: 0.7886\n",
      "Epoch 83/100\n",
      "463/463 [==============================] - 96s 207ms/step - loss: 0.2187 - categorical_accuracy: 0.7793 - val_loss: 0.2236 - val_categorical_accuracy: 0.7862\n",
      "Epoch 84/100\n",
      "463/463 [==============================] - 97s 210ms/step - loss: 0.2207 - categorical_accuracy: 0.7841 - val_loss: 0.2442 - val_categorical_accuracy: 0.7612\n",
      "Epoch 85/100\n",
      "463/463 [==============================] - 90s 195ms/step - loss: 0.2191 - categorical_accuracy: 0.7835 - val_loss: 0.2207 - val_categorical_accuracy: 0.7881\n"
     ]
    },
    {
     "name": "stdout",
     "output_type": "stream",
     "text": [
      "Epoch 86/100\n",
      "463/463 [==============================] - 91s 197ms/step - loss: 0.2177 - categorical_accuracy: 0.7844 - val_loss: 0.2259 - val_categorical_accuracy: 0.7829\n",
      "Epoch 87/100\n",
      "463/463 [==============================] - 98s 211ms/step - loss: 0.2189 - categorical_accuracy: 0.7831 - val_loss: 0.2204 - val_categorical_accuracy: 0.7895\n",
      "Epoch 88/100\n",
      "463/463 [==============================] - 101s 219ms/step - loss: 0.2165 - categorical_accuracy: 0.7862 - val_loss: 0.2304 - val_categorical_accuracy: 0.7843\n",
      "Epoch 89/100\n",
      "463/463 [==============================] - 91s 196ms/step - loss: 0.2166 - categorical_accuracy: 0.7881 - val_loss: 0.2206 - val_categorical_accuracy: 0.7872\n",
      "Epoch 90/100\n",
      "463/463 [==============================] - 90s 194ms/step - loss: 0.2167 - categorical_accuracy: 0.7860 - val_loss: 0.2190 - val_categorical_accuracy: 0.7900\n",
      "Epoch 91/100\n",
      "463/463 [==============================] - 90s 194ms/step - loss: 0.2156 - categorical_accuracy: 0.7880 - val_loss: 0.2193 - val_categorical_accuracy: 0.7853\n",
      "Epoch 92/100\n",
      "463/463 [==============================] - 82s 177ms/step - loss: 0.2173 - categorical_accuracy: 0.7829 - val_loss: 0.2236 - val_categorical_accuracy: 0.7862\n",
      "Epoch 93/100\n",
      "463/463 [==============================] - 102s 220ms/step - loss: 0.2151 - categorical_accuracy: 0.7881 - val_loss: 0.2215 - val_categorical_accuracy: 0.7862\n",
      "Epoch 94/100\n",
      "463/463 [==============================] - 95s 205ms/step - loss: 0.2153 - categorical_accuracy: 0.7888 - val_loss: 0.2188 - val_categorical_accuracy: 0.7947\n",
      "Epoch 95/100\n",
      "463/463 [==============================] - 89s 193ms/step - loss: 0.2175 - categorical_accuracy: 0.7833 - val_loss: 0.2214 - val_categorical_accuracy: 0.7829\n",
      "Epoch 96/100\n",
      "463/463 [==============================] - 97s 208ms/step - loss: 0.2162 - categorical_accuracy: 0.7848 - val_loss: 0.2322 - val_categorical_accuracy: 0.7711\n",
      "Epoch 97/100\n",
      "463/463 [==============================] - 94s 203ms/step - loss: 0.2147 - categorical_accuracy: 0.7866 - val_loss: 0.2191 - val_categorical_accuracy: 0.7891\n",
      "Epoch 98/100\n",
      "463/463 [==============================] - 87s 188ms/step - loss: 0.2152 - categorical_accuracy: 0.7846 - val_loss: 0.2168 - val_categorical_accuracy: 0.7942\n",
      "Epoch 99/100\n",
      "463/463 [==============================] - 90s 194ms/step - loss: 0.2152 - categorical_accuracy: 0.7875 - val_loss: 0.2164 - val_categorical_accuracy: 0.7914\n",
      "Epoch 100/100\n",
      "463/463 [==============================] - 90s 195ms/step - loss: 0.2141 - categorical_accuracy: 0.7862 - val_loss: 0.2169 - val_categorical_accuracy: 0.7942\n"
     ]
    }
   ],
   "source": [
    "\n",
    "strategy = tf.distribute.MirroredStrategy()\n",
    "with strategy.scope():\n",
    "    # Load pre-trained ResNet50 model with pre-trained weights and without top layers\n",
    "    base_model = ResNet50(weights='imagenet', include_top=False)\n",
    "\n",
    "    # Freeze the convolutional layers\n",
    "    for layer in base_model.layers:\n",
    "        layer.trainable = False\n",
    "\n",
    "    # Add custom classification layers\n",
    "    x = base_model.output\n",
    "    x = GlobalAveragePooling2D()(x)\n",
    "    x = Dense(1024,activation = 'relu')(x)\n",
    "    x = Dense(1024,activation = 'relu')(x)\n",
    "    predictions = Dense(4, activation='softmax')(x)\n",
    "    model = Model(inputs=base_model.input, outputs=predictions)\n",
    "\n",
    "    # Compile the model\n",
    "    model.compile(optimizer=Adam(), loss=focal_categorical_crossentropy, metrics=['categorical_accuracy'])\n",
    "    \n",
    "    history = model.fit(train_dataset, validation_data=val_dataset,  epochs=100,callbacks=[LearningRateScheduler(lr_schedule),early_stopping])"
   ]
  },
  {
   "cell_type": "code",
   "execution_count": 12,
   "id": "5c33eac1-bac3-435b-90d3-0e96ba0ab48c",
   "metadata": {},
   "outputs": [
    {
     "data": {
      "text/plain": [
       "<matplotlib.legend.Legend at 0x7f73f8410820>"
      ]
     },
     "execution_count": 12,
     "metadata": {},
     "output_type": "execute_result"
    },
    {
     "data": {
      "image/png": "[encoded data removed]",
      "text/plain": [
       "<Figure size 1440x1440 with 2 Axes>"
      ]
     },
     "metadata": {
      "needs_background": "light"
     },
     "output_type": "display_data"
    }
   ],
   "source": [
    "plt.figure(figsize = (20, 20))\n",
    "plt.subplot(341)\n",
    "plt.plot(history.history['loss'], color='blue', linestyle = 'dashdot', label='Train')\n",
    "plt.plot(history.history['val_loss'], color='red', linestyle=\"solid\", label='Val')\n",
    "plt.xlabel('Epoch')\n",
    "plt.ylabel('Loss')\n",
    "plt.title('Loss')\n",
    "plt.grid(visible = True, which = 'both', color= 'r', linestyle = 'dotted')\n",
    "plt.legend()\n",
    "\n",
    "plt.subplot(343)\n",
    "plt.plot(history.history['categorical_accuracy'], color='blue', linestyle = 'dashdot', label='Train')\n",
    "plt.plot(history.history['val_categorical_accuracy'], color='red', linestyle=\"solid\", label='Val')\n",
    "# plt.xticks(np.arange(0, 31, step=2))  # Set label locations.\n",
    "plt.xlabel('Epoch')\n",
    "plt.ylabel('Accuracy')\n",
    "plt.title('Accuracy')\n",
    "plt.grid(visible = True, which = 'both', color= 'r', linestyle = 'dotted')\n",
    "plt.legend()"
   ]
  },
  {
   "cell_type": "code",
   "execution_count": 13,
   "id": "83cda2a6",
   "metadata": {},
   "outputs": [
    {
     "name": "stdout",
     "output_type": "stream",
     "text": [
      "133/133 [==============================] - 26s 189ms/step - loss: 0.2279 - categorical_accuracy: 0.7813\n",
      "Test Loss: 0.2278503179550171\n",
      "Test Accuracy: 0.7813459038734436\n"
     ]
    },
    {
     "data": {
      "image/png": "[encoded data removed]",
      "text/plain": [
       "<Figure size 720x576 with 2 Axes>"
      ]
     },
     "metadata": {
      "needs_background": "light"
     },
     "output_type": "display_data"
    }
   ],
   "source": [
    "test_result = model.evaluate(test_dataset, batch_size = 128)\n",
    "\n",
    "print('Test Loss: {}'.format(test_result[0]))\n",
    "print('Test Accuracy: {}'.format(test_result[1]))\n",
    "\n",
    "class_names = list(train_dataset.class_indices)\n",
    "\n",
    "label_names = class_names\n",
    "y_pred = model.predict(test_dataset, batch_size=128)\n",
    "y_test = test_dataset.labels\n",
    "cm = tf.math.confusion_matrix(y_test, \n",
    "                              y_pred.argmax(axis=1),\n",
    "                              num_classes = 4)\n",
    "plt.figure(figsize=(10, 8))\n",
    "sns.heatmap(cm, xticklabels=class_names, yticklabels=class_names, \n",
    "              annot=True, fmt='g')\n",
    "plt.xlabel('Prediction')\n",
    "plt.ylabel('Label')\n",
    "plt.savefig('CM.png', dpi = 300)\n",
    "plt.show()"
   ]
  },
  {
   "cell_type": "code",
   "execution_count": null,
   "id": "8317bf91",
   "metadata": {},
   "outputs": [],
   "source": []
  }
 ],
 "metadata": {
  "kernelspec": {
   "display_name": "Python 3",
   "language": "python",
   "name": "python3"
  },
  "language_info": {
   "codemirror_mode": {
    "name": "ipython",
    "version": 3
   },
   "file_extension": ".py",
   "mimetype": "text/x-python",
   "name": "python",
   "nbconvert_exporter": "python",
   "pygments_lexer": "ipython3",
   "version": "3.8.8"
  }
 },
 "nbformat": 4,
 "nbformat_minor": 5
}
