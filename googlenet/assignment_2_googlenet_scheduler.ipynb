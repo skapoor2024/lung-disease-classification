{
 "cells": [
  {
   "cell_type": "code",
   "execution_count": 1,
   "id": "e8f3d50b",
   "metadata": {},
   "outputs": [],
   "source": [
    "import random\n",
    "import numpy as np\n",
    "import tensorflow as tf\n",
    "import matplotlib.pyplot as plt\n",
    "import seaborn as sns\n",
    "import PIL.Image as Image\n",
    "import os\n",
    "import math"
   ]
  },
  {
   "cell_type": "code",
   "execution_count": 2,
   "id": "02b24784-719a-473c-ad68-e0cbfa4cd905",
   "metadata": {},
   "outputs": [],
   "source": [
    "import tensorflow as tf\n",
    "from tensorflow.keras.applications import InceptionV3\n",
    "from tensorflow.keras.models import Model\n",
    "from tensorflow.keras.layers import Dense, GlobalAveragePooling2D\n",
    "from tensorflow.keras.optimizers import Adam\n",
    "from tensorflow.keras.losses import categorical_crossentropy\n",
    "from tensorflow.keras.utils import to_categorical\n",
    "from tensorflow.keras.callbacks import LearningRateScheduler\n",
    "from tensorflow.keras.callbacks import EarlyStopping"
   ]
  },
  {
   "cell_type": "code",
   "execution_count": 3,
   "id": "7dc72645",
   "metadata": {},
   "outputs": [],
   "source": [
    "def lr_schedule(epoch):\n",
    "    initial_lr = 0.001  # Initial learning rate\n",
    "    drop = 0.5  # Learning rate drop factor\n",
    "    epochs_drop = 10  # Number of epochs after which learning rate should drop\n",
    "    lr = initial_lr * math.pow(drop, math.floor((1 + epoch) / epochs_drop))\n",
    "    return lr\n",
    "\n",
    "early_stopping = EarlyStopping(monitor='val_loss', patience=10, restore_best_weights=True)\n",
    "\n",
    "os.environ[\"CUDA_VISIBLE_DEVICES\"] = \"1\""
   ]
  },
  {
   "cell_type": "code",
   "execution_count": 4,
   "id": "ff5a84a9",
   "metadata": {},
   "outputs": [],
   "source": [
    "train_datagen = tf.keras.preprocessing.image.ImageDataGenerator(\n",
    "    #horizontal_flip=True,\n",
    "    #vertical_flip=True,\n",
    "    rescale=1./255.0)\n",
    "test_datagen = tf.keras.preprocessing.image.ImageDataGenerator(rescale=1./255)\n",
    "val_datagen = tf.keras.preprocessing.image.ImageDataGenerator(rescale=1./255)"
   ]
  },
  {
   "cell_type": "code",
   "execution_count": 5,
   "id": "16131236",
   "metadata": {},
   "outputs": [
    {
     "name": "stdout",
     "output_type": "stream",
     "text": [
      "Found 14811 images belonging to 4 classes.\n",
      "Found 2119 images belonging to 4 classes.\n",
      "Found 4235 images belonging to 4 classes.\n"
     ]
    }
   ],
   "source": [
    "main_path = os.getcwd() + '/covid_data'\n",
    "\n",
    "train_dataset = train_datagen.flow_from_directory(\n",
    "    directory= main_path + '/train/',\n",
    "    target_size=(224, 224),\n",
    "    color_mode=\"rgb\",\n",
    "    batch_size=32,\n",
    "    class_mode=\"categorical\",\n",
    "    shuffle=True,\n",
    "    seed=None)\n",
    "\n",
    "val_dataset = val_datagen.flow_from_directory(\n",
    "    directory = main_path + '/validation',\n",
    "    target_size=(224, 224),\n",
    "    color_mode=\"rgb\",\n",
    "    batch_size=150,\n",
    "    class_mode=\"categorical\",\n",
    "    shuffle=False,\n",
    "    seed=None)\n",
    "\n",
    "test_dataset = test_datagen.flow_from_directory(\n",
    "    directory = main_path + '/test',\n",
    "    target_size=(224, 224),\n",
    "    color_mode=\"rgb\",\n",
    "    batch_size=150,\n",
    "    class_mode=\"categorical\",\n",
    "    shuffle=False,\n",
    "    seed=None)"
   ]
  },
  {
   "cell_type": "code",
   "execution_count": 6,
   "id": "9541ee29-072f-4ce2-87f4-da8fea98620b",
   "metadata": {},
   "outputs": [
    {
     "name": "stdout",
     "output_type": "stream",
     "text": [
      "Image Shape: (32, 224, 224, 3)\n",
      "Label Shape: (32, 4)\n"
     ]
    }
   ],
   "source": [
    "for image_batch, labels_batch in train_dataset:\n",
    "  print('Image Shape: {}'.format(image_batch.shape))\n",
    "  print('Label Shape: {}'.format(labels_batch.shape))\n",
    "  break"
   ]
  },
  {
   "cell_type": "code",
   "execution_count": 7,
   "id": "75e37f92-7150-435b-b58a-dbd6b09b66ea",
   "metadata": {},
   "outputs": [],
   "source": [
    "# Load pre-trained ResNet50 model with pre-trained weights and without top layers\n",
    "base_model = InceptionV3(weights='imagenet', include_top=False)\n",
    "\n",
    "# Freeze the convolutional layers\n",
    "for layer in base_model.layers:\n",
    "    layer.trainable = False\n",
    "\n",
    "# Add custom classification layers\n",
    "x = base_model.output\n",
    "x = GlobalAveragePooling2D()(x)\n",
    "predictions = Dense(4, activation='softmax')(x)\n",
    "model = Model(inputs=base_model.input, outputs=predictions)\n",
    "\n",
    "# Compile the model\n",
    "model.compile(optimizer=Adam(), loss=categorical_crossentropy, metrics=['categorical_accuracy'])"
   ]
  },
  {
   "cell_type": "code",
   "execution_count": 8,
   "id": "93839cf6-30a5-4bd6-b772-6f8803123915",
   "metadata": {},
   "outputs": [
    {
     "name": "stdout",
     "output_type": "stream",
     "text": [
      "Epoch 1/75\n",
      "463/463 [==============================] - 99s 204ms/step - loss: 0.6186 - categorical_accuracy: 0.7571 - val_loss: 0.4917 - val_categorical_accuracy: 0.8178\n",
      "Epoch 2/75\n",
      "463/463 [==============================] - 97s 209ms/step - loss: 0.4856 - categorical_accuracy: 0.8118 - val_loss: 0.4614 - val_categorical_accuracy: 0.8131\n",
      "Epoch 3/75\n",
      "463/463 [==============================] - 100s 216ms/step - loss: 0.4529 - categorical_accuracy: 0.8286 - val_loss: 0.4771 - val_categorical_accuracy: 0.8183\n",
      "Epoch 4/75\n",
      "463/463 [==============================] - 98s 212ms/step - loss: 0.4246 - categorical_accuracy: 0.8388 - val_loss: 0.4269 - val_categorical_accuracy: 0.8301\n",
      "Epoch 5/75\n",
      "463/463 [==============================] - 94s 203ms/step - loss: 0.4110 - categorical_accuracy: 0.8437 - val_loss: 0.4806 - val_categorical_accuracy: 0.8145\n",
      "Epoch 6/75\n",
      "463/463 [==============================] - 102s 219ms/step - loss: 0.4059 - categorical_accuracy: 0.8473 - val_loss: 0.4735 - val_categorical_accuracy: 0.8277\n",
      "Epoch 7/75\n",
      "463/463 [==============================] - 102s 220ms/step - loss: 0.3915 - categorical_accuracy: 0.8530 - val_loss: 0.4096 - val_categorical_accuracy: 0.8381\n",
      "Epoch 8/75\n",
      "463/463 [==============================] - 107s 231ms/step - loss: 0.3772 - categorical_accuracy: 0.8551 - val_loss: 0.4217 - val_categorical_accuracy: 0.8296\n",
      "Epoch 9/75\n",
      "463/463 [==============================] - 107s 230ms/step - loss: 0.3816 - categorical_accuracy: 0.8571 - val_loss: 0.4022 - val_categorical_accuracy: 0.8400\n",
      "Epoch 10/75\n",
      "463/463 [==============================] - 104s 224ms/step - loss: 0.3484 - categorical_accuracy: 0.8719 - val_loss: 0.4076 - val_categorical_accuracy: 0.8386\n",
      "Epoch 11/75\n",
      "463/463 [==============================] - 102s 221ms/step - loss: 0.3463 - categorical_accuracy: 0.8704 - val_loss: 0.4137 - val_categorical_accuracy: 0.8424\n",
      "Epoch 12/75\n",
      "463/463 [==============================] - 102s 220ms/step - loss: 0.3384 - categorical_accuracy: 0.8741 - val_loss: 0.4035 - val_categorical_accuracy: 0.8414\n",
      "Epoch 13/75\n",
      "463/463 [==============================] - 100s 217ms/step - loss: 0.3379 - categorical_accuracy: 0.8759 - val_loss: 0.3944 - val_categorical_accuracy: 0.8429\n",
      "Epoch 14/75\n",
      "463/463 [==============================] - 104s 224ms/step - loss: 0.3357 - categorical_accuracy: 0.8771 - val_loss: 0.4032 - val_categorical_accuracy: 0.8419\n",
      "Epoch 15/75\n",
      "463/463 [==============================] - 101s 219ms/step - loss: 0.3356 - categorical_accuracy: 0.8748 - val_loss: 0.4206 - val_categorical_accuracy: 0.8325\n",
      "Epoch 16/75\n",
      "463/463 [==============================] - 104s 224ms/step - loss: 0.3312 - categorical_accuracy: 0.8765 - val_loss: 0.3940 - val_categorical_accuracy: 0.8447\n",
      "Epoch 17/75\n",
      "463/463 [==============================] - 106s 228ms/step - loss: 0.3304 - categorical_accuracy: 0.8756 - val_loss: 0.3915 - val_categorical_accuracy: 0.8499\n",
      "Epoch 18/75\n",
      "463/463 [==============================] - 108s 233ms/step - loss: 0.3266 - categorical_accuracy: 0.8772 - val_loss: 0.3983 - val_categorical_accuracy: 0.8462\n",
      "Epoch 19/75\n",
      "463/463 [==============================] - 106s 229ms/step - loss: 0.3243 - categorical_accuracy: 0.8802 - val_loss: 0.3962 - val_categorical_accuracy: 0.8452\n",
      "Epoch 20/75\n",
      "463/463 [==============================] - 106s 228ms/step - loss: 0.3115 - categorical_accuracy: 0.8840 - val_loss: 0.3924 - val_categorical_accuracy: 0.8518\n",
      "Epoch 21/75\n",
      "463/463 [==============================] - 105s 226ms/step - loss: 0.3138 - categorical_accuracy: 0.8854 - val_loss: 0.3981 - val_categorical_accuracy: 0.8443\n",
      "Epoch 22/75\n",
      "463/463 [==============================] - 105s 226ms/step - loss: 0.3088 - categorical_accuracy: 0.8875 - val_loss: 0.3962 - val_categorical_accuracy: 0.8499\n",
      "Epoch 23/75\n",
      "463/463 [==============================] - 102s 220ms/step - loss: 0.3088 - categorical_accuracy: 0.8872 - val_loss: 0.3971 - val_categorical_accuracy: 0.8466\n",
      "Epoch 24/75\n",
      "463/463 [==============================] - 105s 227ms/step - loss: 0.3074 - categorical_accuracy: 0.8864 - val_loss: 0.4004 - val_categorical_accuracy: 0.8443\n",
      "Epoch 25/75\n",
      "463/463 [==============================] - 104s 225ms/step - loss: 0.3074 - categorical_accuracy: 0.8877 - val_loss: 0.3969 - val_categorical_accuracy: 0.8457\n",
      "Epoch 26/75\n",
      "463/463 [==============================] - 102s 220ms/step - loss: 0.3056 - categorical_accuracy: 0.8890 - val_loss: 0.4040 - val_categorical_accuracy: 0.8452\n",
      "Epoch 27/75\n",
      "463/463 [==============================] - 102s 219ms/step - loss: 0.3036 - categorical_accuracy: 0.8879 - val_loss: 0.3903 - val_categorical_accuracy: 0.8556\n",
      "Epoch 28/75\n",
      "463/463 [==============================] - 105s 227ms/step - loss: 0.3035 - categorical_accuracy: 0.8907 - val_loss: 0.3975 - val_categorical_accuracy: 0.8495\n",
      "Epoch 29/75\n",
      "463/463 [==============================] - 104s 226ms/step - loss: 0.3038 - categorical_accuracy: 0.8897 - val_loss: 0.3941 - val_categorical_accuracy: 0.8471\n",
      "Epoch 30/75\n",
      "463/463 [==============================] - 101s 218ms/step - loss: 0.2958 - categorical_accuracy: 0.8934 - val_loss: 0.3948 - val_categorical_accuracy: 0.8532\n",
      "Epoch 31/75\n",
      "463/463 [==============================] - 102s 219ms/step - loss: 0.2954 - categorical_accuracy: 0.8931 - val_loss: 0.3961 - val_categorical_accuracy: 0.8509\n",
      "Epoch 32/75\n",
      "463/463 [==============================] - 104s 224ms/step - loss: 0.2952 - categorical_accuracy: 0.8949 - val_loss: 0.3968 - val_categorical_accuracy: 0.8499\n",
      "Epoch 33/75\n",
      "463/463 [==============================] - 105s 226ms/step - loss: 0.2941 - categorical_accuracy: 0.8940 - val_loss: 0.3930 - val_categorical_accuracy: 0.8523\n",
      "Epoch 34/75\n",
      "463/463 [==============================] - 104s 224ms/step - loss: 0.2948 - categorical_accuracy: 0.8954 - val_loss: 0.3944 - val_categorical_accuracy: 0.8546\n",
      "Epoch 35/75\n",
      "463/463 [==============================] - 101s 218ms/step - loss: 0.2940 - categorical_accuracy: 0.8954 - val_loss: 0.4009 - val_categorical_accuracy: 0.8523\n",
      "Epoch 36/75\n",
      "463/463 [==============================] - 105s 226ms/step - loss: 0.2935 - categorical_accuracy: 0.8935 - val_loss: 0.3921 - val_categorical_accuracy: 0.8523\n",
      "Epoch 37/75\n",
      "463/463 [==============================] - 101s 218ms/step - loss: 0.2931 - categorical_accuracy: 0.8945 - val_loss: 0.3936 - val_categorical_accuracy: 0.8532\n"
     ]
    }
   ],
   "source": [
    "history = model.fit(train_dataset, validation_data=val_dataset,  epochs=75,callbacks=[LearningRateScheduler(lr_schedule),early_stopping])"
   ]
  },
  {
   "cell_type": "code",
   "execution_count": 10,
   "id": "b79b782f",
   "metadata": {},
   "outputs": [
    {
     "data": {
      "text/plain": [
       "<matplotlib.legend.Legend at 0x7f7c00989460>"
      ]
     },
     "execution_count": 10,
     "metadata": {},
     "output_type": "execute_result"
    },
    {
     "data": {
      "image/png": "[encoded data removed]",
      "text/plain": [
       "<Figure size 1440x1440 with 2 Axes>"
      ]
     },
     "metadata": {
      "needs_background": "light"
     },
     "output_type": "display_data"
    }
   ],
   "source": [
    "plt.figure(figsize = (20, 20))\n",
    "plt.subplot(341)\n",
    "plt.plot(history.history['loss'], color='blue', linestyle = 'dashdot', label='Train')\n",
    "plt.plot(history.history['val_loss'], color='red', linestyle=\"solid\", label='Val')\n",
    "plt.xlabel('Epoch')\n",
    "plt.ylabel('Loss')\n",
    "plt.title('Loss')\n",
    "plt.grid(visible = True, which = 'both', color= 'r', linestyle = 'dotted')\n",
    "plt.legend()\n",
    "\n",
    "plt.subplot(343)\n",
    "plt.plot(history.history['categorical_accuracy'], color='blue', linestyle = 'dashdot', label='Train')\n",
    "plt.plot(history.history['val_categorical_accuracy'], color='red', linestyle=\"solid\", label='Val')\n",
    "# plt.xticks(np.arange(0, 31, step=2))  # Set label locations.\n",
    "plt.xlabel('Epoch')\n",
    "plt.ylabel('Accuracy')\n",
    "plt.title('Accuracy')\n",
    "plt.grid(visible = True, which = 'both', color= 'r', linestyle = 'dotted')\n",
    "plt.legend()"
   ]
  },
  {
   "cell_type": "code",
   "execution_count": null,
   "id": "3454c548",
   "metadata": {},
   "outputs": [],
   "source": [
    "test_result = model.evaluate(test_dataset, batch_size = 128)\n",
    "\n",
    "print('Test Loss: {}'.format(test_result[0]))\n",
    "print('Test Accuracy: {}'.format(test_result[1]))\n",
    "\n",
    "class_names = list(train_dataset.class_indices)\n",
    "\n",
    "label_names = class_names\n",
    "y_pred = model.predict(test_dataset, batch_size=128)\n",
    "y_test = test_dataset.labels\n",
    "cm = tf.math.confusion_matrix(y_test, \n",
    "                              y_pred.argmax(axis=1),\n",
    "                              num_classes = 4)\n",
    "plt.figure(figsize=(10, 8))\n",
    "sns.heatmap(cm, xticklabels=class_names, yticklabels=class_names, \n",
    "              annot=True, fmt='g')\n",
    "plt.xlabel('Prediction')\n",
    "plt.ylabel('Label')\n",
    "plt.savefig('CM.png', dpi = 300)\n",
    "plt.show()"
   ]
  },
  {
   "cell_type": "code",
   "execution_count": null,
   "id": "a311404b",
   "metadata": {},
   "outputs": [],
   "source": []
  }
 ],
 "metadata": {
  "kernelspec": {
   "display_name": "Python 3",
   "language": "python",
   "name": "python3"
  },
  "language_info": {
   "codemirror_mode": {
    "name": "ipython",
    "version": 3
   },
   "file_extension": ".py",
   "mimetype": "text/x-python",
   "name": "python",
   "nbconvert_exporter": "python",
   "pygments_lexer": "ipython3",
   "version": "3.8.8"
  }
 },
 "nbformat": 4,
 "nbformat_minor": 5
}
