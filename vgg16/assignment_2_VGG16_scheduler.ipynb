{
 "cells": [
  {
   "cell_type": "code",
   "execution_count": 1,
   "id": "e8f3d50b",
   "metadata": {},
   "outputs": [],
   "source": [
    "import random\n",
    "import numpy as np\n",
    "import tensorflow as tf\n",
    "import matplotlib.pyplot as plt\n",
    "import seaborn as sns\n",
    "import PIL.Image as Image\n",
    "import os\n",
    "import math"
   ]
  },
  {
   "cell_type": "code",
   "execution_count": 2,
   "id": "02b24784-719a-473c-ad68-e0cbfa4cd905",
   "metadata": {},
   "outputs": [],
   "source": [
    "import tensorflow as tf\n",
    "from tensorflow.keras.applications import VGG16\n",
    "from tensorflow.keras.models import Model\n",
    "from tensorflow.keras.layers import Dense, GlobalAveragePooling2D\n",
    "from tensorflow.keras.optimizers import Adam\n",
    "from tensorflow.keras.losses import categorical_crossentropy\n",
    "from tensorflow.keras.utils import to_categorical\n",
    "from tensorflow.keras.callbacks import LearningRateScheduler"
   ]
  },
  {
   "cell_type": "code",
   "execution_count": 3,
   "id": "c4334a8f",
   "metadata": {},
   "outputs": [],
   "source": [
    "def lr_schedule(epoch):\n",
    "    initial_lr = 0.001 \n",
    "    drop = 0.5  \n",
    "    epochs_drop = 10 \n",
    "    lr = initial_lr * math.pow(drop, math.floor((1 + epoch) / epochs_drop))\n",
    "    return lr"
   ]
  },
  {
   "cell_type": "code",
   "execution_count": 4,
   "id": "06e2e426",
   "metadata": {},
   "outputs": [],
   "source": [
    "os.environ[\"CUDA_VISIBLE_DEVICES\"] = \"2\""
   ]
  },
  {
   "cell_type": "code",
   "execution_count": 5,
   "id": "ff5a84a9",
   "metadata": {},
   "outputs": [],
   "source": [
    "train_datagen = tf.keras.preprocessing.image.ImageDataGenerator(\n",
    "    #horizontal_flip=True,\n",
    "    #vertical_flip=True,\n",
    "    rescale=1./255.0)\n",
    "test_datagen = tf.keras.preprocessing.image.ImageDataGenerator(rescale=1./255)\n",
    "val_datagen = tf.keras.preprocessing.image.ImageDataGenerator(rescale=1./255)"
   ]
  },
  {
   "cell_type": "code",
   "execution_count": 6,
   "id": "16131236",
   "metadata": {},
   "outputs": [
    {
     "name": "stdout",
     "output_type": "stream",
     "text": [
      "Found 14811 images belonging to 4 classes.\n",
      "Found 2119 images belonging to 4 classes.\n",
      "Found 4235 images belonging to 4 classes.\n"
     ]
    }
   ],
   "source": [
    "main_path = os.getcwd() + '/covid_data'\n",
    "\n",
    "train_dataset = train_datagen.flow_from_directory(\n",
    "    directory= main_path + '/train/',\n",
    "    target_size=(224, 224),\n",
    "    color_mode=\"rgb\",\n",
    "    batch_size=32,\n",
    "    class_mode=\"categorical\",\n",
    "    shuffle=True,\n",
    "    seed=None)\n",
    "\n",
    "val_dataset = val_datagen.flow_from_directory(\n",
    "    directory = main_path + '/validation',\n",
    "    target_size=(224, 224),\n",
    "    color_mode=\"rgb\",\n",
    "    batch_size=150,\n",
    "    class_mode=\"categorical\",\n",
    "    shuffle=False,\n",
    "    seed=None)\n",
    "\n",
    "test_dataset = test_datagen.flow_from_directory(\n",
    "    directory = main_path + '/test',\n",
    "    target_size=(224, 224),\n",
    "    color_mode=\"rgb\",\n",
    "    batch_size=150,\n",
    "    class_mode=\"categorical\",\n",
    "    shuffle=False,\n",
    "    seed=None)"
   ]
  },
  {
   "cell_type": "code",
   "execution_count": 7,
   "id": "9541ee29-072f-4ce2-87f4-da8fea98620b",
   "metadata": {},
   "outputs": [
    {
     "name": "stdout",
     "output_type": "stream",
     "text": [
      "Image Shape: (32, 224, 224, 3)\n",
      "Label Shape: (32, 4)\n"
     ]
    }
   ],
   "source": [
    "for image_batch, labels_batch in train_dataset:\n",
    "  print('Image Shape: {}'.format(image_batch.shape))\n",
    "  print('Label Shape: {}'.format(labels_batch.shape))\n",
    "  break"
   ]
  },
  {
   "cell_type": "code",
   "execution_count": 8,
   "id": "75e37f92-7150-435b-b58a-dbd6b09b66ea",
   "metadata": {},
   "outputs": [],
   "source": [
    "base_model = VGG16(weights='imagenet', include_top=False)\n",
    "\n",
    "\n",
    "for layer in base_model.layers:\n",
    "    layer.trainable = False\n",
    "\n",
    "\n",
    "x = base_model.output\n",
    "x = GlobalAveragePooling2D()(x)\n",
    "predictions = Dense(4, activation='softmax')(x)\n",
    "model = Model(inputs=base_model.input, outputs=predictions)\n",
    "\n",
    "model.compile(optimizer=Adam(), loss=categorical_crossentropy, metrics=['categorical_accuracy'])"
   ]
  },
  {
   "cell_type": "code",
   "execution_count": 9,
   "id": "93839cf6-30a5-4bd6-b772-6f8803123915",
   "metadata": {},
   "outputs": [
    {
     "name": "stdout",
     "output_type": "stream",
     "text": [
      "Epoch 1/75\n",
      "463/463 [==============================] - 106s 220ms/step - loss: 0.9595 - categorical_accuracy: 0.5961 - val_loss: 0.8332 - val_categorical_accuracy: 0.6513\n",
      "Epoch 2/75\n",
      "463/463 [==============================] - 101s 217ms/step - loss: 0.7837 - categorical_accuracy: 0.6914 - val_loss: 0.7350 - val_categorical_accuracy: 0.7386\n",
      "Epoch 3/75\n",
      "463/463 [==============================] - 98s 211ms/step - loss: 0.7096 - categorical_accuracy: 0.7365 - val_loss: 0.6738 - val_categorical_accuracy: 0.7603\n",
      "Epoch 4/75\n",
      "463/463 [==============================] - 98s 212ms/step - loss: 0.6611 - categorical_accuracy: 0.7611 - val_loss: 0.6322 - val_categorical_accuracy: 0.7796\n",
      "Epoch 5/75\n",
      "463/463 [==============================] - 104s 226ms/step - loss: 0.6248 - categorical_accuracy: 0.7774 - val_loss: 0.6003 - val_categorical_accuracy: 0.7881\n",
      "Epoch 6/75\n",
      "463/463 [==============================] - 101s 219ms/step - loss: 0.5982 - categorical_accuracy: 0.7906 - val_loss: 0.5802 - val_categorical_accuracy: 0.7994\n",
      "Epoch 7/75\n",
      "463/463 [==============================] - 107s 230ms/step - loss: 0.5752 - categorical_accuracy: 0.7991 - val_loss: 0.5560 - val_categorical_accuracy: 0.7994\n",
      "Epoch 8/75\n",
      "463/463 [==============================] - 107s 230ms/step - loss: 0.5565 - categorical_accuracy: 0.8076 - val_loss: 0.5397 - val_categorical_accuracy: 0.8126\n",
      "Epoch 9/75\n",
      "463/463 [==============================] - 106s 229ms/step - loss: 0.5423 - categorical_accuracy: 0.8115 - val_loss: 0.5343 - val_categorical_accuracy: 0.7975\n",
      "Epoch 10/75\n",
      "463/463 [==============================] - 103s 223ms/step - loss: 0.5293 - categorical_accuracy: 0.8166 - val_loss: 0.5194 - val_categorical_accuracy: 0.8174\n",
      "Epoch 11/75\n",
      "463/463 [==============================] - 105s 227ms/step - loss: 0.5228 - categorical_accuracy: 0.8176 - val_loss: 0.5126 - val_categorical_accuracy: 0.8155\n",
      "Epoch 12/75\n",
      "463/463 [==============================] - 100s 216ms/step - loss: 0.5170 - categorical_accuracy: 0.8207 - val_loss: 0.5086 - val_categorical_accuracy: 0.8145\n",
      "Epoch 13/75\n",
      "463/463 [==============================] - 103s 223ms/step - loss: 0.5118 - categorical_accuracy: 0.8221 - val_loss: 0.5009 - val_categorical_accuracy: 0.8249\n",
      "Epoch 14/75\n",
      "463/463 [==============================] - 102s 220ms/step - loss: 0.5059 - categorical_accuracy: 0.8249 - val_loss: 0.4959 - val_categorical_accuracy: 0.8268\n",
      "Epoch 15/75\n",
      "463/463 [==============================] - 108s 234ms/step - loss: 0.5008 - categorical_accuracy: 0.8266 - val_loss: 0.4905 - val_categorical_accuracy: 0.8301\n",
      "Epoch 16/75\n",
      "463/463 [==============================] - 101s 219ms/step - loss: 0.4963 - categorical_accuracy: 0.8298 - val_loss: 0.4876 - val_categorical_accuracy: 0.8306\n",
      "Epoch 17/75\n",
      "463/463 [==============================] - 109s 236ms/step - loss: 0.4921 - categorical_accuracy: 0.8295 - val_loss: 0.4847 - val_categorical_accuracy: 0.8268\n",
      "Epoch 18/75\n",
      "463/463 [==============================] - 107s 231ms/step - loss: 0.4872 - categorical_accuracy: 0.8314 - val_loss: 0.4833 - val_categorical_accuracy: 0.8268\n",
      "Epoch 19/75\n",
      "463/463 [==============================] - 107s 232ms/step - loss: 0.4835 - categorical_accuracy: 0.8330 - val_loss: 0.4749 - val_categorical_accuracy: 0.8292\n",
      "Epoch 20/75\n",
      "463/463 [==============================] - 104s 224ms/step - loss: 0.4797 - categorical_accuracy: 0.8352 - val_loss: 0.4721 - val_categorical_accuracy: 0.8348\n",
      "Epoch 21/75\n",
      "463/463 [==============================] - 101s 217ms/step - loss: 0.4780 - categorical_accuracy: 0.8357 - val_loss: 0.4701 - val_categorical_accuracy: 0.8358\n",
      "Epoch 22/75\n",
      "463/463 [==============================] - 106s 229ms/step - loss: 0.4763 - categorical_accuracy: 0.8365 - val_loss: 0.4680 - val_categorical_accuracy: 0.8329\n",
      "Epoch 23/75\n",
      "463/463 [==============================] - 101s 218ms/step - loss: 0.4744 - categorical_accuracy: 0.8369 - val_loss: 0.4670 - val_categorical_accuracy: 0.8344\n",
      "Epoch 24/75\n",
      "463/463 [==============================] - 105s 227ms/step - loss: 0.4728 - categorical_accuracy: 0.8375 - val_loss: 0.4649 - val_categorical_accuracy: 0.8348\n",
      "Epoch 25/75\n",
      "463/463 [==============================] - 102s 219ms/step - loss: 0.4707 - categorical_accuracy: 0.8376 - val_loss: 0.4633 - val_categorical_accuracy: 0.8353\n",
      "Epoch 26/75\n",
      "463/463 [==============================] - 102s 221ms/step - loss: 0.4696 - categorical_accuracy: 0.8384 - val_loss: 0.4622 - val_categorical_accuracy: 0.8391\n",
      "Epoch 27/75\n",
      "463/463 [==============================] - 105s 226ms/step - loss: 0.4676 - categorical_accuracy: 0.8392 - val_loss: 0.4607 - val_categorical_accuracy: 0.8377\n",
      "Epoch 28/75\n",
      "463/463 [==============================] - 105s 226ms/step - loss: 0.4658 - categorical_accuracy: 0.8389 - val_loss: 0.4587 - val_categorical_accuracy: 0.8377\n",
      "Epoch 29/75\n",
      "463/463 [==============================] - 105s 227ms/step - loss: 0.4644 - categorical_accuracy: 0.8407 - val_loss: 0.4578 - val_categorical_accuracy: 0.8410\n",
      "Epoch 30/75\n",
      "463/463 [==============================] - 105s 226ms/step - loss: 0.4628 - categorical_accuracy: 0.8417 - val_loss: 0.4569 - val_categorical_accuracy: 0.8414\n",
      "Epoch 31/75\n",
      "463/463 [==============================] - 104s 224ms/step - loss: 0.4619 - categorical_accuracy: 0.8411 - val_loss: 0.4556 - val_categorical_accuracy: 0.8381\n",
      "Epoch 32/75\n",
      "463/463 [==============================] - 100s 215ms/step - loss: 0.4611 - categorical_accuracy: 0.8423 - val_loss: 0.4547 - val_categorical_accuracy: 0.8429\n",
      "Epoch 33/75\n",
      "463/463 [==============================] - 105s 226ms/step - loss: 0.4607 - categorical_accuracy: 0.8412 - val_loss: 0.4539 - val_categorical_accuracy: 0.8381\n",
      "Epoch 34/75\n",
      "463/463 [==============================] - 104s 225ms/step - loss: 0.4598 - categorical_accuracy: 0.8426 - val_loss: 0.4535 - val_categorical_accuracy: 0.8400\n",
      "Epoch 35/75\n",
      "463/463 [==============================] - 104s 225ms/step - loss: 0.4589 - categorical_accuracy: 0.8422 - val_loss: 0.4531 - val_categorical_accuracy: 0.8419\n",
      "Epoch 36/75\n",
      "463/463 [==============================] - 103s 223ms/step - loss: 0.4583 - categorical_accuracy: 0.8428 - val_loss: 0.4524 - val_categorical_accuracy: 0.8410\n",
      "Epoch 37/75\n",
      "463/463 [==============================] - 97s 209ms/step - loss: 0.4576 - categorical_accuracy: 0.8426 - val_loss: 0.4513 - val_categorical_accuracy: 0.8410\n",
      "Epoch 38/75\n",
      "463/463 [==============================] - 94s 203ms/step - loss: 0.4568 - categorical_accuracy: 0.8432 - val_loss: 0.4507 - val_categorical_accuracy: 0.8410\n",
      "Epoch 39/75\n",
      "463/463 [==============================] - 97s 209ms/step - loss: 0.4561 - categorical_accuracy: 0.8425 - val_loss: 0.4498 - val_categorical_accuracy: 0.8433\n",
      "Epoch 40/75\n",
      "463/463 [==============================] - 92s 198ms/step - loss: 0.4554 - categorical_accuracy: 0.8439 - val_loss: 0.4495 - val_categorical_accuracy: 0.8429\n",
      "Epoch 41/75\n",
      "463/463 [==============================] - 95s 204ms/step - loss: 0.4551 - categorical_accuracy: 0.8437 - val_loss: 0.4493 - val_categorical_accuracy: 0.8429\n",
      "Epoch 42/75\n",
      "463/463 [==============================] - 94s 203ms/step - loss: 0.4548 - categorical_accuracy: 0.8426 - val_loss: 0.4491 - val_categorical_accuracy: 0.8424\n",
      "Epoch 43/75\n",
      "463/463 [==============================] - 93s 201ms/step - loss: 0.4544 - categorical_accuracy: 0.8440 - val_loss: 0.4489 - val_categorical_accuracy: 0.8438\n",
      "Epoch 44/75\n",
      "463/463 [==============================] - 93s 201ms/step - loss: 0.4541 - categorical_accuracy: 0.8432 - val_loss: 0.4481 - val_categorical_accuracy: 0.8438\n",
      "Epoch 45/75\n",
      "463/463 [==============================] - 94s 202ms/step - loss: 0.4538 - categorical_accuracy: 0.8438 - val_loss: 0.4480 - val_categorical_accuracy: 0.8414\n",
      "Epoch 46/75\n",
      "463/463 [==============================] - 93s 201ms/step - loss: 0.4535 - categorical_accuracy: 0.8442 - val_loss: 0.4477 - val_categorical_accuracy: 0.8438\n",
      "Epoch 47/75\n",
      "463/463 [==============================] - 94s 203ms/step - loss: 0.4528 - categorical_accuracy: 0.8453 - val_loss: 0.4485 - val_categorical_accuracy: 0.8410\n",
      "Epoch 48/75\n",
      "463/463 [==============================] - 95s 204ms/step - loss: 0.4527 - categorical_accuracy: 0.8437 - val_loss: 0.4470 - val_categorical_accuracy: 0.8424\n",
      "Epoch 49/75\n"
     ]
    },
    {
     "name": "stdout",
     "output_type": "stream",
     "text": [
      "463/463 [==============================] - 94s 203ms/step - loss: 0.4524 - categorical_accuracy: 0.8451 - val_loss: 0.4466 - val_categorical_accuracy: 0.8438\n",
      "Epoch 50/75\n",
      "463/463 [==============================] - 96s 207ms/step - loss: 0.4520 - categorical_accuracy: 0.8444 - val_loss: 0.4466 - val_categorical_accuracy: 0.8429\n",
      "Epoch 51/75\n",
      "463/463 [==============================] - 98s 213ms/step - loss: 0.4518 - categorical_accuracy: 0.8452 - val_loss: 0.4465 - val_categorical_accuracy: 0.8419\n",
      "Epoch 52/75\n",
      "463/463 [==============================] - 93s 201ms/step - loss: 0.4517 - categorical_accuracy: 0.8454 - val_loss: 0.4463 - val_categorical_accuracy: 0.8443\n",
      "Epoch 53/75\n",
      "463/463 [==============================] - 88s 191ms/step - loss: 0.4514 - categorical_accuracy: 0.8451 - val_loss: 0.4463 - val_categorical_accuracy: 0.8424\n",
      "Epoch 54/75\n",
      "463/463 [==============================] - 88s 189ms/step - loss: 0.4513 - categorical_accuracy: 0.8450 - val_loss: 0.4460 - val_categorical_accuracy: 0.8447\n",
      "Epoch 55/75\n",
      "463/463 [==============================] - 90s 195ms/step - loss: 0.4512 - categorical_accuracy: 0.8453 - val_loss: 0.4458 - val_categorical_accuracy: 0.8462\n",
      "Epoch 56/75\n",
      "463/463 [==============================] - 90s 194ms/step - loss: 0.4510 - categorical_accuracy: 0.8450 - val_loss: 0.4455 - val_categorical_accuracy: 0.8462\n",
      "Epoch 57/75\n",
      "463/463 [==============================] - 89s 191ms/step - loss: 0.4508 - categorical_accuracy: 0.8455 - val_loss: 0.4454 - val_categorical_accuracy: 0.8462\n",
      "Epoch 58/75\n",
      "463/463 [==============================] - 88s 190ms/step - loss: 0.4507 - categorical_accuracy: 0.8450 - val_loss: 0.4452 - val_categorical_accuracy: 0.8452\n",
      "Epoch 59/75\n",
      "463/463 [==============================] - 95s 204ms/step - loss: 0.4505 - categorical_accuracy: 0.8457 - val_loss: 0.4452 - val_categorical_accuracy: 0.8452\n",
      "Epoch 60/75\n",
      "463/463 [==============================] - 85s 184ms/step - loss: 0.4503 - categorical_accuracy: 0.8455 - val_loss: 0.4450 - val_categorical_accuracy: 0.8457\n",
      "Epoch 61/75\n",
      "463/463 [==============================] - 89s 193ms/step - loss: 0.4503 - categorical_accuracy: 0.8450 - val_loss: 0.4449 - val_categorical_accuracy: 0.8462\n",
      "Epoch 62/75\n",
      "463/463 [==============================] - 95s 205ms/step - loss: 0.4502 - categorical_accuracy: 0.8457 - val_loss: 0.4449 - val_categorical_accuracy: 0.8457\n",
      "Epoch 63/75\n",
      "463/463 [==============================] - 95s 206ms/step - loss: 0.4501 - categorical_accuracy: 0.8454 - val_loss: 0.4449 - val_categorical_accuracy: 0.8447\n",
      "Epoch 64/75\n",
      "463/463 [==============================] - 95s 206ms/step - loss: 0.4500 - categorical_accuracy: 0.8457 - val_loss: 0.4447 - val_categorical_accuracy: 0.8457\n",
      "Epoch 65/75\n",
      "463/463 [==============================] - 89s 193ms/step - loss: 0.4499 - categorical_accuracy: 0.8457 - val_loss: 0.4446 - val_categorical_accuracy: 0.8457\n",
      "Epoch 66/75\n",
      "463/463 [==============================] - 96s 208ms/step - loss: 0.4498 - categorical_accuracy: 0.8455 - val_loss: 0.4446 - val_categorical_accuracy: 0.8457\n",
      "Epoch 67/75\n",
      "463/463 [==============================] - 90s 194ms/step - loss: 0.4498 - categorical_accuracy: 0.8455 - val_loss: 0.4445 - val_categorical_accuracy: 0.8457\n",
      "Epoch 68/75\n",
      "463/463 [==============================] - 90s 195ms/step - loss: 0.4497 - categorical_accuracy: 0.8459 - val_loss: 0.4445 - val_categorical_accuracy: 0.8457\n",
      "Epoch 69/75\n",
      "463/463 [==============================] - 88s 191ms/step - loss: 0.4496 - categorical_accuracy: 0.8456 - val_loss: 0.4443 - val_categorical_accuracy: 0.8462\n",
      "Epoch 70/75\n",
      "463/463 [==============================] - 88s 190ms/step - loss: 0.4495 - categorical_accuracy: 0.8456 - val_loss: 0.4443 - val_categorical_accuracy: 0.8457\n",
      "Epoch 71/75\n",
      "463/463 [==============================] - 96s 206ms/step - loss: 0.4495 - categorical_accuracy: 0.8455 - val_loss: 0.4443 - val_categorical_accuracy: 0.8457\n",
      "Epoch 72/75\n",
      "463/463 [==============================] - 88s 190ms/step - loss: 0.4494 - categorical_accuracy: 0.8452 - val_loss: 0.4442 - val_categorical_accuracy: 0.8457\n",
      "Epoch 73/75\n",
      "463/463 [==============================] - 89s 192ms/step - loss: 0.4494 - categorical_accuracy: 0.8458 - val_loss: 0.4442 - val_categorical_accuracy: 0.8457\n",
      "Epoch 74/75\n",
      "463/463 [==============================] - 95s 204ms/step - loss: 0.4493 - categorical_accuracy: 0.8455 - val_loss: 0.4442 - val_categorical_accuracy: 0.8457\n",
      "Epoch 75/75\n",
      "463/463 [==============================] - 86s 185ms/step - loss: 0.4493 - categorical_accuracy: 0.8458 - val_loss: 0.4441 - val_categorical_accuracy: 0.8457\n"
     ]
    }
   ],
   "source": [
    "history = model.fit(train_dataset, validation_data=val_dataset,  epochs=75,callbacks = [LearningRateScheduler(lr_schedule)])"
   ]
  },
  {
   "cell_type": "code",
   "execution_count": 10,
   "id": "5a114f40",
   "metadata": {},
   "outputs": [
    {
     "data": {
      "text/plain": [
       "<matplotlib.legend.Legend at 0x7fd3aa14e220>"
      ]
     },
     "execution_count": 10,
     "metadata": {},
     "output_type": "execute_result"
    },
    {
     "data": {
      "image/png": "[encoded data removed]",
      "text/plain": [
       "<Figure size 1440x1440 with 2 Axes>"
      ]
     },
     "metadata": {
      "needs_background": "light"
     },
     "output_type": "display_data"
    }
   ],
   "source": [
    "plt.figure(figsize = (20, 20))\n",
    "plt.subplot(341)\n",
    "plt.plot(history.history['loss'], color='blue', linestyle = 'dashdot', label='Train')\n",
    "plt.plot(history.history['val_loss'], color='red', linestyle=\"solid\", label='Val')\n",
    "plt.xlabel('Epoch')\n",
    "plt.ylabel('Loss')\n",
    "plt.title('Loss')\n",
    "plt.grid(visible = True, which = 'both', color= 'r', linestyle = 'dotted')\n",
    "plt.legend()\n",
    "\n",
    "plt.subplot(343)\n",
    "plt.plot(history.history['categorical_accuracy'], color='blue', linestyle = 'dashdot', label='Train')\n",
    "plt.plot(history.history['val_categorical_accuracy'], color='red', linestyle=\"solid\", label='Val')\n",
    "# plt.xticks(np.arange(0, 31, step=2))  # Set label locations.\n",
    "plt.xlabel('Epoch')\n",
    "plt.ylabel('Accuracy')\n",
    "plt.title('Accuracy')\n",
    "plt.grid(visible = True, which = 'both', color= 'r', linestyle = 'dotted')\n",
    "plt.legend()"
   ]
  },
  {
   "cell_type": "code",
   "execution_count": 11,
   "id": "ab0a34c4",
   "metadata": {},
   "outputs": [
    {
     "name": "stdout",
     "output_type": "stream",
     "text": [
      "29/29 [==============================] - 26s 900ms/step - loss: 0.4578 - categorical_accuracy: 0.8420\n"
     ]
    }
   ],
   "source": [
    "test_result = model.evaluate(test_dataset, batch_size = 128)"
   ]
  },
  {
   "cell_type": "code",
   "execution_count": 12,
   "id": "e13c20f0",
   "metadata": {},
   "outputs": [
    {
     "name": "stdout",
     "output_type": "stream",
     "text": [
      "Test Loss: 0.45777633786201477\n",
      "Test Accuracy: 0.8420307040214539\n"
     ]
    }
   ],
   "source": [
    "print('Test Loss: {}'.format(test_result[0]))\n",
    "print('Test Accuracy: {}'.format(test_result[1]))"
   ]
  },
  {
   "cell_type": "code",
   "execution_count": 13,
   "id": "d66a6b71",
   "metadata": {},
   "outputs": [],
   "source": [
    "class_names = list(train_dataset.class_indices)"
   ]
  },
  {
   "cell_type": "code",
   "execution_count": 14,
   "id": "b63fa20c",
   "metadata": {},
   "outputs": [
    {
     "data": {
      "image/png": "[encoded data removed]",
      "text/plain": [
       "<Figure size 720x576 with 2 Axes>"
      ]
     },
     "metadata": {
      "needs_background": "light"
     },
     "output_type": "display_data"
    }
   ],
   "source": [
    "label_names = class_names\n",
    "y_pred = model.predict(test_dataset, batch_size=128)\n",
    "y_test = test_dataset.labels\n",
    "cm = tf.math.confusion_matrix(y_test, \n",
    "                              y_pred.argmax(axis=1),\n",
    "                              num_classes = 4)\n",
    "plt.figure(figsize=(10, 8))\n",
    "sns.heatmap(cm, xticklabels=class_names, yticklabels=class_names, \n",
    "              annot=True, fmt='g')\n",
    "plt.xlabel('Prediction')\n",
    "plt.ylabel('Label')\n",
    "plt.savefig('CM.png', dpi = 300)\n",
    "plt.show()"
   ]
  },
  {
   "cell_type": "code",
   "execution_count": null,
   "id": "15a1f8ad",
   "metadata": {},
   "outputs": [],
   "source": []
  }
 ],
 "metadata": {
  "kernelspec": {
   "display_name": "Python 3",
   "language": "python",
   "name": "python3"
  },
  "language_info": {
   "codemirror_mode": {
    "name": "ipython",
    "version": 3
   },
   "file_extension": ".py",
   "mimetype": "text/x-python",
   "name": "python",
   "nbconvert_exporter": "python",
   "pygments_lexer": "ipython3",
   "version": "3.8.8"
  }
 },
 "nbformat": 4,
 "nbformat_minor": 5
}
