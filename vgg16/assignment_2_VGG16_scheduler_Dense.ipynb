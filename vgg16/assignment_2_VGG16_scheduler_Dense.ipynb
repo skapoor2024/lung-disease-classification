{
 "cells": [
  {
   "cell_type": "code",
   "execution_count": 1,
   "id": "e8f3d50b",
   "metadata": {},
   "outputs": [],
   "source": [
    "import random\n",
    "import numpy as np\n",
    "import tensorflow as tf\n",
    "import matplotlib.pyplot as plt\n",
    "import seaborn as sns\n",
    "import PIL.Image as Image\n",
    "import os\n",
    "import math"
   ]
  },
  {
   "cell_type": "code",
   "execution_count": 2,
   "id": "02b24784-719a-473c-ad68-e0cbfa4cd905",
   "metadata": {},
   "outputs": [],
   "source": [
    "import tensorflow as tf\n",
    "from tensorflow.keras.applications import VGG16\n",
    "from tensorflow.keras.models import Model\n",
    "from tensorflow.keras.layers import Dense, GlobalAveragePooling2D\n",
    "from tensorflow.keras.optimizers import Adam\n",
    "from tensorflow.keras.losses import categorical_crossentropy\n",
    "from tensorflow.keras.utils import to_categorical\n",
    "from tensorflow.keras.callbacks import LearningRateScheduler"
   ]
  },
  {
   "cell_type": "code",
   "execution_count": 3,
   "id": "ce9d0ff1",
   "metadata": {},
   "outputs": [],
   "source": [
    "def lr_schedule(epoch):\n",
    "    initial_lr = 0.001 \n",
    "    drop = 0.5  \n",
    "    epochs_drop = 10 \n",
    "    lr = initial_lr * math.pow(drop, math.floor((1 + epoch) / epochs_drop))\n",
    "    return max(lr,0.0001)"
   ]
  },
  {
   "cell_type": "code",
   "execution_count": 4,
   "id": "f20b252b",
   "metadata": {},
   "outputs": [],
   "source": [
    "gpus = tf.config.experimental.list_physical_devices('GPU')\n",
    "if gpus:\n",
    "    for gpu in gpus:\n",
    "        tf.config.experimental.set_memory_growth(gpu, True)"
   ]
  },
  {
   "cell_type": "code",
   "execution_count": 5,
   "id": "b94cd839",
   "metadata": {},
   "outputs": [],
   "source": [
    "os.environ[\"CUDA_VISIBLE_DEVICES\"] = \"2\""
   ]
  },
  {
   "cell_type": "code",
   "execution_count": 6,
   "id": "ff5a84a9",
   "metadata": {},
   "outputs": [],
   "source": [
    "train_datagen = tf.keras.preprocessing.image.ImageDataGenerator(\n",
    "    #horizontal_flip=True,\n",
    "    #vertical_flip=True,\n",
    "    rescale=1./255.0)\n",
    "test_datagen = tf.keras.preprocessing.image.ImageDataGenerator(rescale=1./255)\n",
    "val_datagen = tf.keras.preprocessing.image.ImageDataGenerator(rescale=1./255)"
   ]
  },
  {
   "cell_type": "code",
   "execution_count": 7,
   "id": "16131236",
   "metadata": {},
   "outputs": [
    {
     "name": "stdout",
     "output_type": "stream",
     "text": [
      "Found 14811 images belonging to 4 classes.\n",
      "Found 2119 images belonging to 4 classes.\n",
      "Found 4235 images belonging to 4 classes.\n"
     ]
    }
   ],
   "source": [
    "main_path = os.getcwd() + '/covid_data'\n",
    "\n",
    "train_dataset = train_datagen.flow_from_directory(\n",
    "    directory= main_path + '/train/',\n",
    "    target_size=(224, 224),\n",
    "    color_mode=\"rgb\",\n",
    "    batch_size=32,\n",
    "    class_mode=\"categorical\",\n",
    "    shuffle=True,\n",
    "    seed=None)\n",
    "\n",
    "val_dataset = val_datagen.flow_from_directory(\n",
    "    directory = main_path + '/validation',\n",
    "    target_size=(224, 224),\n",
    "    color_mode=\"rgb\",\n",
    "    batch_size=150,\n",
    "    class_mode=\"categorical\",\n",
    "    shuffle=False,\n",
    "    seed=None)\n",
    "\n",
    "test_dataset = test_datagen.flow_from_directory(\n",
    "    directory = main_path + '/test',\n",
    "    target_size=(224, 224),\n",
    "    color_mode=\"rgb\",\n",
    "    batch_size=150,\n",
    "    class_mode=\"categorical\",\n",
    "    shuffle=False,\n",
    "    seed=None)"
   ]
  },
  {
   "cell_type": "code",
   "execution_count": 8,
   "id": "9541ee29-072f-4ce2-87f4-da8fea98620b",
   "metadata": {},
   "outputs": [
    {
     "name": "stdout",
     "output_type": "stream",
     "text": [
      "Image Shape: (32, 224, 224, 3)\n",
      "Label Shape: (32, 4)\n"
     ]
    }
   ],
   "source": [
    "for image_batch, labels_batch in train_dataset:\n",
    "  print('Image Shape: {}'.format(image_batch.shape))\n",
    "  print('Label Shape: {}'.format(labels_batch.shape))\n",
    "  break"
   ]
  },
  {
   "cell_type": "code",
   "execution_count": 9,
   "id": "75e37f92-7150-435b-b58a-dbd6b09b66ea",
   "metadata": {},
   "outputs": [],
   "source": [
    "base_model = VGG16(weights='imagenet', include_top=False)\n",
    "\n",
    "\n",
    "for layer in base_model.layers:\n",
    "    layer.trainable = False\n",
    "\n",
    "\n",
    "x = base_model.output\n",
    "x = GlobalAveragePooling2D()(x)\n",
    "x = Dense(1024,activation = 'relu')(x)\n",
    "x= Dense(1024,activation = 'relu')(x)\n",
    "predictions = Dense(4, activation='softmax')(x)\n",
    "model = Model(inputs=base_model.input, outputs=predictions)\n",
    "\n",
    "model.compile(optimizer=Adam(), loss=categorical_crossentropy, metrics=['categorical_accuracy'])"
   ]
  },
  {
   "cell_type": "code",
   "execution_count": 10,
   "id": "619e2da0",
   "metadata": {},
   "outputs": [
    {
     "name": "stdout",
     "output_type": "stream",
     "text": [
      "Model: \"model\"\n",
      "_________________________________________________________________\n",
      "Layer (type)                 Output Shape              Param #   \n",
      "=================================================================\n",
      "input_1 (InputLayer)         [(None, None, None, 3)]   0         \n",
      "_________________________________________________________________\n",
      "block1_conv1 (Conv2D)        (None, None, None, 64)    1792      \n",
      "_________________________________________________________________\n",
      "block1_conv2 (Conv2D)        (None, None, None, 64)    36928     \n",
      "_________________________________________________________________\n",
      "block1_pool (MaxPooling2D)   (None, None, None, 64)    0         \n",
      "_________________________________________________________________\n",
      "block2_conv1 (Conv2D)        (None, None, None, 128)   73856     \n",
      "_________________________________________________________________\n",
      "block2_conv2 (Conv2D)        (None, None, None, 128)   147584    \n",
      "_________________________________________________________________\n",
      "block2_pool (MaxPooling2D)   (None, None, None, 128)   0         \n",
      "_________________________________________________________________\n",
      "block3_conv1 (Conv2D)        (None, None, None, 256)   295168    \n",
      "_________________________________________________________________\n",
      "block3_conv2 (Conv2D)        (None, None, None, 256)   590080    \n",
      "_________________________________________________________________\n",
      "block3_conv3 (Conv2D)        (None, None, None, 256)   590080    \n",
      "_________________________________________________________________\n",
      "block3_pool (MaxPooling2D)   (None, None, None, 256)   0         \n",
      "_________________________________________________________________\n",
      "block4_conv1 (Conv2D)        (None, None, None, 512)   1180160   \n",
      "_________________________________________________________________\n",
      "block4_conv2 (Conv2D)        (None, None, None, 512)   2359808   \n",
      "_________________________________________________________________\n",
      "block4_conv3 (Conv2D)        (None, None, None, 512)   2359808   \n",
      "_________________________________________________________________\n",
      "block4_pool (MaxPooling2D)   (None, None, None, 512)   0         \n",
      "_________________________________________________________________\n",
      "block5_conv1 (Conv2D)        (None, None, None, 512)   2359808   \n",
      "_________________________________________________________________\n",
      "block5_conv2 (Conv2D)        (None, None, None, 512)   2359808   \n",
      "_________________________________________________________________\n",
      "block5_conv3 (Conv2D)        (None, None, None, 512)   2359808   \n",
      "_________________________________________________________________\n",
      "block5_pool (MaxPooling2D)   (None, None, None, 512)   0         \n",
      "_________________________________________________________________\n",
      "global_average_pooling2d (Gl (None, 512)               0         \n",
      "_________________________________________________________________\n",
      "dense (Dense)                (None, 1024)              525312    \n",
      "_________________________________________________________________\n",
      "dense_1 (Dense)              (None, 1024)              1049600   \n",
      "_________________________________________________________________\n",
      "dense_2 (Dense)              (None, 4)                 4100      \n",
      "=================================================================\n",
      "Total params: 16,293,700\n",
      "Trainable params: 1,579,012\n",
      "Non-trainable params: 14,714,688\n",
      "_________________________________________________________________\n"
     ]
    }
   ],
   "source": [
    "model.summary()"
   ]
  },
  {
   "cell_type": "code",
   "execution_count": 11,
   "id": "93839cf6-30a5-4bd6-b772-6f8803123915",
   "metadata": {},
   "outputs": [
    {
     "name": "stdout",
     "output_type": "stream",
     "text": [
      "Epoch 1/75\n",
      "463/463 [==============================] - 90s 185ms/step - loss: 0.6704 - categorical_accuracy: 0.7400 - val_loss: 0.4980 - val_categorical_accuracy: 0.8122\n",
      "Epoch 2/75\n",
      "463/463 [==============================] - 80s 172ms/step - loss: 0.4614 - categorical_accuracy: 0.8253 - val_loss: 0.4307 - val_categorical_accuracy: 0.8405\n",
      "Epoch 3/75\n",
      "463/463 [==============================] - 84s 181ms/step - loss: 0.4066 - categorical_accuracy: 0.8490 - val_loss: 0.3430 - val_categorical_accuracy: 0.8759\n",
      "Epoch 4/75\n",
      "463/463 [==============================] - 83s 180ms/step - loss: 0.3675 - categorical_accuracy: 0.8612 - val_loss: 0.3591 - val_categorical_accuracy: 0.8764\n",
      "Epoch 5/75\n",
      "463/463 [==============================] - 86s 186ms/step - loss: 0.3564 - categorical_accuracy: 0.8660 - val_loss: 0.3055 - val_categorical_accuracy: 0.8867\n",
      "Epoch 6/75\n",
      "463/463 [==============================] - 85s 183ms/step - loss: 0.3278 - categorical_accuracy: 0.8787 - val_loss: 0.3143 - val_categorical_accuracy: 0.8834\n",
      "Epoch 7/75\n",
      "463/463 [==============================] - 84s 182ms/step - loss: 0.3112 - categorical_accuracy: 0.8826 - val_loss: 0.3062 - val_categorical_accuracy: 0.8943\n",
      "Epoch 8/75\n",
      "463/463 [==============================] - 89s 192ms/step - loss: 0.2996 - categorical_accuracy: 0.8875 - val_loss: 0.3593 - val_categorical_accuracy: 0.8688\n",
      "Epoch 9/75\n",
      "463/463 [==============================] - 86s 185ms/step - loss: 0.2878 - categorical_accuracy: 0.8905 - val_loss: 0.3221 - val_categorical_accuracy: 0.8759\n",
      "Epoch 10/75\n",
      "463/463 [==============================] - 90s 194ms/step - loss: 0.2544 - categorical_accuracy: 0.9065 - val_loss: 0.3142 - val_categorical_accuracy: 0.8820\n",
      "Epoch 11/75\n",
      "463/463 [==============================] - 93s 201ms/step - loss: 0.2434 - categorical_accuracy: 0.9072 - val_loss: 0.2789 - val_categorical_accuracy: 0.8962\n",
      "Epoch 12/75\n",
      "463/463 [==============================] - 95s 205ms/step - loss: 0.2403 - categorical_accuracy: 0.9086 - val_loss: 0.2938 - val_categorical_accuracy: 0.8924\n",
      "Epoch 13/75\n",
      "463/463 [==============================] - 96s 207ms/step - loss: 0.2392 - categorical_accuracy: 0.9094 - val_loss: 0.2773 - val_categorical_accuracy: 0.8971\n",
      "Epoch 14/75\n",
      "463/463 [==============================] - 93s 202ms/step - loss: 0.2319 - categorical_accuracy: 0.9103 - val_loss: 0.2586 - val_categorical_accuracy: 0.9014\n",
      "Epoch 15/75\n",
      "463/463 [==============================] - 98s 212ms/step - loss: 0.2284 - categorical_accuracy: 0.9131 - val_loss: 0.2696 - val_categorical_accuracy: 0.9018\n",
      "Epoch 16/75\n",
      "463/463 [==============================] - 93s 201ms/step - loss: 0.2243 - categorical_accuracy: 0.9161 - val_loss: 0.2720 - val_categorical_accuracy: 0.8990\n",
      "Epoch 17/75\n",
      "463/463 [==============================] - 94s 204ms/step - loss: 0.2228 - categorical_accuracy: 0.9147 - val_loss: 0.3115 - val_categorical_accuracy: 0.8735\n",
      "Epoch 18/75\n",
      "463/463 [==============================] - 91s 196ms/step - loss: 0.2169 - categorical_accuracy: 0.9196 - val_loss: 0.2676 - val_categorical_accuracy: 0.9014\n",
      "Epoch 19/75\n",
      "463/463 [==============================] - 87s 188ms/step - loss: 0.2097 - categorical_accuracy: 0.9207 - val_loss: 0.2627 - val_categorical_accuracy: 0.9023\n",
      "Epoch 20/75\n",
      "463/463 [==============================] - 92s 198ms/step - loss: 0.1898 - categorical_accuracy: 0.9286 - val_loss: 0.2744 - val_categorical_accuracy: 0.9023\n",
      "Epoch 21/75\n",
      "463/463 [==============================] - 95s 204ms/step - loss: 0.1884 - categorical_accuracy: 0.9282 - val_loss: 0.2596 - val_categorical_accuracy: 0.9009\n",
      "Epoch 22/75\n",
      "463/463 [==============================] - 93s 200ms/step - loss: 0.1867 - categorical_accuracy: 0.9303 - val_loss: 0.2565 - val_categorical_accuracy: 0.9051\n",
      "Epoch 23/75\n",
      "463/463 [==============================] - 93s 201ms/step - loss: 0.1808 - categorical_accuracy: 0.9327 - val_loss: 0.2741 - val_categorical_accuracy: 0.9033\n",
      "Epoch 24/75\n",
      "463/463 [==============================] - 93s 201ms/step - loss: 0.1802 - categorical_accuracy: 0.9329 - val_loss: 0.2659 - val_categorical_accuracy: 0.9014\n",
      "Epoch 25/75\n",
      "463/463 [==============================] - 86s 186ms/step - loss: 0.1765 - categorical_accuracy: 0.9338 - val_loss: 0.2642 - val_categorical_accuracy: 0.9000\n",
      "Epoch 26/75\n",
      "463/463 [==============================] - 84s 182ms/step - loss: 0.1764 - categorical_accuracy: 0.9340 - val_loss: 0.2687 - val_categorical_accuracy: 0.9009\n",
      "Epoch 27/75\n",
      "463/463 [==============================] - 85s 183ms/step - loss: 0.1739 - categorical_accuracy: 0.9338 - val_loss: 0.2587 - val_categorical_accuracy: 0.9037\n",
      "Epoch 28/75\n",
      "463/463 [==============================] - 85s 183ms/step - loss: 0.1676 - categorical_accuracy: 0.9359 - val_loss: 0.2713 - val_categorical_accuracy: 0.9037\n",
      "Epoch 29/75\n",
      "463/463 [==============================] - 88s 191ms/step - loss: 0.1672 - categorical_accuracy: 0.9355 - val_loss: 0.2711 - val_categorical_accuracy: 0.9009\n",
      "Epoch 30/75\n",
      "463/463 [==============================] - 85s 183ms/step - loss: 0.1534 - categorical_accuracy: 0.9430 - val_loss: 0.2625 - val_categorical_accuracy: 0.9061\n",
      "Epoch 31/75\n",
      "463/463 [==============================] - 87s 189ms/step - loss: 0.1493 - categorical_accuracy: 0.9459 - val_loss: 0.2858 - val_categorical_accuracy: 0.8981\n",
      "Epoch 32/75\n",
      "463/463 [==============================] - 84s 181ms/step - loss: 0.1488 - categorical_accuracy: 0.9442 - val_loss: 0.2673 - val_categorical_accuracy: 0.9033\n",
      "Epoch 33/75\n",
      "463/463 [==============================] - 88s 190ms/step - loss: 0.1468 - categorical_accuracy: 0.9461 - val_loss: 0.2727 - val_categorical_accuracy: 0.9047\n",
      "Epoch 34/75\n",
      "463/463 [==============================] - 85s 184ms/step - loss: 0.1453 - categorical_accuracy: 0.9456 - val_loss: 0.2670 - val_categorical_accuracy: 0.9033\n",
      "Epoch 35/75\n",
      "463/463 [==============================] - 89s 193ms/step - loss: 0.1442 - categorical_accuracy: 0.9479 - val_loss: 0.2846 - val_categorical_accuracy: 0.9018\n",
      "Epoch 36/75\n",
      "463/463 [==============================] - 89s 191ms/step - loss: 0.1427 - categorical_accuracy: 0.9465 - val_loss: 0.2676 - val_categorical_accuracy: 0.9066\n",
      "Epoch 37/75\n",
      "463/463 [==============================] - 86s 186ms/step - loss: 0.1395 - categorical_accuracy: 0.9481 - val_loss: 0.2727 - val_categorical_accuracy: 0.9061\n",
      "Epoch 38/75\n",
      "463/463 [==============================] - 85s 183ms/step - loss: 0.1380 - categorical_accuracy: 0.9489 - val_loss: 0.2804 - val_categorical_accuracy: 0.9056\n",
      "Epoch 39/75\n",
      "463/463 [==============================] - 85s 184ms/step - loss: 0.1363 - categorical_accuracy: 0.9486 - val_loss: 0.2713 - val_categorical_accuracy: 0.9051\n",
      "Epoch 40/75\n",
      "463/463 [==============================] - 85s 184ms/step - loss: 0.1315 - categorical_accuracy: 0.9527 - val_loss: 0.2781 - val_categorical_accuracy: 0.9056\n",
      "Epoch 41/75\n",
      "463/463 [==============================] - 85s 183ms/step - loss: 0.1296 - categorical_accuracy: 0.9518 - val_loss: 0.2715 - val_categorical_accuracy: 0.9051\n",
      "Epoch 42/75\n",
      "463/463 [==============================] - 84s 182ms/step - loss: 0.1297 - categorical_accuracy: 0.9519 - val_loss: 0.2820 - val_categorical_accuracy: 0.9089\n",
      "Epoch 43/75\n",
      "463/463 [==============================] - 85s 183ms/step - loss: 0.1269 - categorical_accuracy: 0.9531 - val_loss: 0.2803 - val_categorical_accuracy: 0.9099\n",
      "Epoch 44/75\n",
      "463/463 [==============================] - 83s 179ms/step - loss: 0.1252 - categorical_accuracy: 0.9533 - val_loss: 0.2809 - val_categorical_accuracy: 0.9042\n",
      "Epoch 45/75\n",
      "463/463 [==============================] - 87s 189ms/step - loss: 0.1226 - categorical_accuracy: 0.9547 - val_loss: 0.2921 - val_categorical_accuracy: 0.9066\n",
      "Epoch 46/75\n",
      "463/463 [==============================] - 90s 194ms/step - loss: 0.1226 - categorical_accuracy: 0.9536 - val_loss: 0.2861 - val_categorical_accuracy: 0.9056\n",
      "Epoch 47/75\n",
      "463/463 [==============================] - 94s 204ms/step - loss: 0.1199 - categorical_accuracy: 0.9562 - val_loss: 0.2939 - val_categorical_accuracy: 0.9042\n",
      "Epoch 48/75\n",
      "463/463 [==============================] - 96s 206ms/step - loss: 0.1190 - categorical_accuracy: 0.9554 - val_loss: 0.2940 - val_categorical_accuracy: 0.9037\n",
      "Epoch 49/75\n"
     ]
    },
    {
     "name": "stdout",
     "output_type": "stream",
     "text": [
      "463/463 [==============================] - 92s 200ms/step - loss: 0.1168 - categorical_accuracy: 0.9584 - val_loss: 0.2875 - val_categorical_accuracy: 0.9099\n",
      "Epoch 50/75\n",
      "463/463 [==============================] - 94s 203ms/step - loss: 0.1147 - categorical_accuracy: 0.9573 - val_loss: 0.2883 - val_categorical_accuracy: 0.9084\n",
      "Epoch 51/75\n",
      "463/463 [==============================] - 92s 198ms/step - loss: 0.1132 - categorical_accuracy: 0.9583 - val_loss: 0.2914 - val_categorical_accuracy: 0.9066\n",
      "Epoch 52/75\n",
      "463/463 [==============================] - 91s 196ms/step - loss: 0.1122 - categorical_accuracy: 0.9589 - val_loss: 0.3083 - val_categorical_accuracy: 0.8990\n",
      "Epoch 53/75\n",
      "463/463 [==============================] - 92s 198ms/step - loss: 0.1092 - categorical_accuracy: 0.9598 - val_loss: 0.2968 - val_categorical_accuracy: 0.9075\n",
      "Epoch 54/75\n",
      "463/463 [==============================] - 95s 204ms/step - loss: 0.1087 - categorical_accuracy: 0.9602 - val_loss: 0.3085 - val_categorical_accuracy: 0.9047\n",
      "Epoch 55/75\n",
      "463/463 [==============================] - 95s 206ms/step - loss: 0.1069 - categorical_accuracy: 0.9599 - val_loss: 0.3172 - val_categorical_accuracy: 0.9047\n",
      "Epoch 56/75\n",
      "463/463 [==============================] - 101s 219ms/step - loss: 0.1059 - categorical_accuracy: 0.9611 - val_loss: 0.3053 - val_categorical_accuracy: 0.9075\n",
      "Epoch 57/75\n",
      "463/463 [==============================] - 101s 218ms/step - loss: 0.1035 - categorical_accuracy: 0.9619 - val_loss: 0.3016 - val_categorical_accuracy: 0.9070\n",
      "Epoch 58/75\n",
      "463/463 [==============================] - 96s 207ms/step - loss: 0.1014 - categorical_accuracy: 0.9627 - val_loss: 0.3162 - val_categorical_accuracy: 0.9075\n",
      "Epoch 59/75\n",
      "463/463 [==============================] - 101s 218ms/step - loss: 0.0997 - categorical_accuracy: 0.9630 - val_loss: 0.3069 - val_categorical_accuracy: 0.9056\n",
      "Epoch 60/75\n",
      "463/463 [==============================] - 96s 207ms/step - loss: 0.0983 - categorical_accuracy: 0.9634 - val_loss: 0.3337 - val_categorical_accuracy: 0.8995\n",
      "Epoch 61/75\n",
      "463/463 [==============================] - 94s 202ms/step - loss: 0.0966 - categorical_accuracy: 0.9654 - val_loss: 0.3205 - val_categorical_accuracy: 0.9028\n",
      "Epoch 62/75\n",
      "463/463 [==============================] - 103s 222ms/step - loss: 0.0953 - categorical_accuracy: 0.9647 - val_loss: 0.3195 - val_categorical_accuracy: 0.9023\n",
      "Epoch 63/75\n",
      "463/463 [==============================] - 101s 218ms/step - loss: 0.0948 - categorical_accuracy: 0.9650 - val_loss: 0.3414 - val_categorical_accuracy: 0.9009\n",
      "Epoch 64/75\n",
      "463/463 [==============================] - 97s 210ms/step - loss: 0.0930 - categorical_accuracy: 0.9683 - val_loss: 0.3266 - val_categorical_accuracy: 0.9061\n",
      "Epoch 65/75\n",
      "463/463 [==============================] - 87s 187ms/step - loss: 0.0913 - categorical_accuracy: 0.9673 - val_loss: 0.3276 - val_categorical_accuracy: 0.9056\n",
      "Epoch 66/75\n",
      "463/463 [==============================] - 85s 183ms/step - loss: 0.0889 - categorical_accuracy: 0.9672 - val_loss: 0.3478 - val_categorical_accuracy: 0.9028\n",
      "Epoch 67/75\n",
      "463/463 [==============================] - 82s 178ms/step - loss: 0.0878 - categorical_accuracy: 0.9681 - val_loss: 0.3252 - val_categorical_accuracy: 0.9023\n",
      "Epoch 68/75\n",
      "463/463 [==============================] - 81s 175ms/step - loss: 0.0881 - categorical_accuracy: 0.9682 - val_loss: 0.3337 - val_categorical_accuracy: 0.9033\n",
      "Epoch 69/75\n",
      "463/463 [==============================] - 84s 181ms/step - loss: 0.0838 - categorical_accuracy: 0.9709 - val_loss: 0.3478 - val_categorical_accuracy: 0.9023\n",
      "Epoch 70/75\n",
      "463/463 [==============================] - 81s 174ms/step - loss: 0.0818 - categorical_accuracy: 0.9705 - val_loss: 0.3509 - val_categorical_accuracy: 0.8985\n",
      "Epoch 71/75\n",
      "463/463 [==============================] - 83s 179ms/step - loss: 0.0799 - categorical_accuracy: 0.9718 - val_loss: 0.3560 - val_categorical_accuracy: 0.8985\n",
      "Epoch 72/75\n",
      "463/463 [==============================] - 81s 175ms/step - loss: 0.0796 - categorical_accuracy: 0.9710 - val_loss: 0.3404 - val_categorical_accuracy: 0.9042\n",
      "Epoch 73/75\n",
      "463/463 [==============================] - 84s 181ms/step - loss: 0.0766 - categorical_accuracy: 0.9720 - val_loss: 0.3700 - val_categorical_accuracy: 0.9004\n",
      "Epoch 74/75\n",
      "463/463 [==============================] - 82s 178ms/step - loss: 0.0750 - categorical_accuracy: 0.9736 - val_loss: 0.3785 - val_categorical_accuracy: 0.8948\n",
      "Epoch 75/75\n",
      "463/463 [==============================] - 85s 184ms/step - loss: 0.0742 - categorical_accuracy: 0.9740 - val_loss: 0.3571 - val_categorical_accuracy: 0.9004\n"
     ]
    }
   ],
   "source": [
    "history = model.fit(train_dataset, validation_data=val_dataset,  epochs=75,callbacks = [LearningRateScheduler(lr_schedule)])"
   ]
  },
  {
   "cell_type": "code",
   "execution_count": 12,
   "id": "5a114f40",
   "metadata": {},
   "outputs": [
    {
     "data": {
      "text/plain": [
       "<matplotlib.legend.Legend at 0x7fa8c886d160>"
      ]
     },
     "execution_count": 12,
     "metadata": {},
     "output_type": "execute_result"
    },
    {
     "data": {
      "image/png": "[encoded data removed]",
      "text/plain": [
       "<Figure size 1440x1440 with 2 Axes>"
      ]
     },
     "metadata": {
      "needs_background": "light"
     },
     "output_type": "display_data"
    }
   ],
   "source": [
    "plt.figure(figsize = (20, 20))\n",
    "plt.subplot(341)\n",
    "plt.plot(history.history['loss'], color='blue', linestyle = 'dashdot', label='Train')\n",
    "plt.plot(history.history['val_loss'], color='red', linestyle=\"solid\", label='Val')\n",
    "plt.xlabel('Epoch')\n",
    "plt.ylabel('Loss')\n",
    "plt.title('Loss')\n",
    "plt.grid(visible = True, which = 'both', color= 'r', linestyle = 'dotted')\n",
    "plt.legend()\n",
    "\n",
    "plt.subplot(343)\n",
    "plt.plot(history.history['categorical_accuracy'], color='blue', linestyle = 'dashdot', label='Train')\n",
    "plt.plot(history.history['val_categorical_accuracy'], color='red', linestyle=\"solid\", label='Val')\n",
    "# plt.xticks(np.arange(0, 31, step=2))  # Set label locations.\n",
    "plt.xlabel('Epoch')\n",
    "plt.ylabel('Accuracy')\n",
    "plt.title('Accuracy')\n",
    "plt.grid(visible = True, which = 'both', color= 'r', linestyle = 'dotted')\n",
    "plt.legend()"
   ]
  },
  {
   "cell_type": "code",
   "execution_count": 13,
   "id": "ab0a34c4",
   "metadata": {},
   "outputs": [
    {
     "name": "stdout",
     "output_type": "stream",
     "text": [
      "29/29 [==============================] - 24s 818ms/step - loss: 0.4112 - categorical_accuracy: 0.8996\n"
     ]
    }
   ],
   "source": [
    "test_result = model.evaluate(test_dataset, batch_size = 128)"
   ]
  },
  {
   "cell_type": "code",
   "execution_count": 14,
   "id": "5ee9b00b",
   "metadata": {},
   "outputs": [
    {
     "name": "stdout",
     "output_type": "stream",
     "text": [
      "Test Loss: 0.41120198369026184\n",
      "Test Accuracy: 0.8996458053588867\n"
     ]
    }
   ],
   "source": [
    "print('Test Loss: {}'.format(test_result[0]))\n",
    "print('Test Accuracy: {}'.format(test_result[1]))"
   ]
  },
  {
   "cell_type": "code",
   "execution_count": 15,
   "id": "a4aee2f8",
   "metadata": {},
   "outputs": [],
   "source": [
    "class_names = list(train_dataset.class_indices)"
   ]
  },
  {
   "cell_type": "code",
   "execution_count": 16,
   "id": "ae33c759",
   "metadata": {},
   "outputs": [
    {
     "data": {
      "image/png": "[encoded data removed]",
      "text/plain": [
       "<Figure size 720x576 with 2 Axes>"
      ]
     },
     "metadata": {
      "needs_background": "light"
     },
     "output_type": "display_data"
    }
   ],
   "source": [
    "label_names = class_names\n",
    "y_pred = model.predict(test_dataset, batch_size=128)\n",
    "y_test = test_dataset.labels\n",
    "cm = tf.math.confusion_matrix(y_test, \n",
    "                              y_pred.argmax(axis=1),\n",
    "                              num_classes = 4)\n",
    "plt.figure(figsize=(10, 8))\n",
    "sns.heatmap(cm, xticklabels=class_names, yticklabels=class_names, \n",
    "              annot=True, fmt='g')\n",
    "plt.xlabel('Prediction')\n",
    "plt.ylabel('Label')\n",
    "plt.savefig('CM.png', dpi = 300)\n",
    "plt.show()"
   ]
  },
  {
   "cell_type": "code",
   "execution_count": null,
   "id": "5b341b8a",
   "metadata": {},
   "outputs": [],
   "source": []
  }
 ],
 "metadata": {
  "kernelspec": {
   "display_name": "Python 3",
   "language": "python",
   "name": "python3"
  },
  "language_info": {
   "codemirror_mode": {
    "name": "ipython",
    "version": 3
   },
   "file_extension": ".py",
   "mimetype": "text/x-python",
   "name": "python",
   "nbconvert_exporter": "python",
   "pygments_lexer": "ipython3",
   "version": "3.8.8"
  }
 },
 "nbformat": 4,
 "nbformat_minor": 5
}
