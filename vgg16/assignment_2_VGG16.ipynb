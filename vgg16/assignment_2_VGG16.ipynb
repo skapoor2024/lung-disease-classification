{
 "cells": [
  {
   "cell_type": "code",
   "execution_count": 1,
   "id": "e8f3d50b",
   "metadata": {},
   "outputs": [],
   "source": [
    "import random\n",
    "import numpy as np\n",
    "import tensorflow as tf\n",
    "import matplotlib.pyplot as plt\n",
    "import seaborn as sns\n",
    "import PIL.Image as Image\n",
    "import os"
   ]
  },
  {
   "cell_type": "code",
   "execution_count": 2,
   "id": "02b24784-719a-473c-ad68-e0cbfa4cd905",
   "metadata": {},
   "outputs": [],
   "source": [
    "import tensorflow as tf\n",
    "from tensorflow.keras.applications import VGG16\n",
    "from tensorflow.keras.models import Model\n",
    "from tensorflow.keras.layers import Dense, GlobalAveragePooling2D\n",
    "from tensorflow.keras.optimizers import Adam\n",
    "from tensorflow.keras.losses import categorical_crossentropy\n",
    "from tensorflow.keras.utils import to_categorical"
   ]
  },
  {
   "cell_type": "code",
   "execution_count": 3,
   "id": "ff5a84a9",
   "metadata": {},
   "outputs": [],
   "source": [
    "train_datagen = tf.keras.preprocessing.image.ImageDataGenerator(\n",
    "    #horizontal_flip=True,\n",
    "    #vertical_flip=True,\n",
    "    rescale=1./255.0)\n",
    "test_datagen = tf.keras.preprocessing.image.ImageDataGenerator(rescale=1./255)\n",
    "val_datagen = tf.keras.preprocessing.image.ImageDataGenerator(rescale=1./255)"
   ]
  },
  {
   "cell_type": "code",
   "execution_count": 4,
   "id": "16131236",
   "metadata": {},
   "outputs": [
    {
     "name": "stdout",
     "output_type": "stream",
     "text": [
      "Found 14811 images belonging to 4 classes.\n",
      "Found 2119 images belonging to 4 classes.\n",
      "Found 4235 images belonging to 4 classes.\n"
     ]
    }
   ],
   "source": [
    "main_path = os.getcwd() + '/covid_data'\n",
    "\n",
    "train_dataset = train_datagen.flow_from_directory(\n",
    "    directory= main_path + '/train/',\n",
    "    target_size=(224, 224),\n",
    "    color_mode=\"rgb\",\n",
    "    batch_size=32,\n",
    "    class_mode=\"categorical\",\n",
    "    shuffle=True,\n",
    "    seed=None)\n",
    "\n",
    "val_dataset = val_datagen.flow_from_directory(\n",
    "    directory = main_path + '/validation',\n",
    "    target_size=(224, 224),\n",
    "    color_mode=\"rgb\",\n",
    "    batch_size=150,\n",
    "    class_mode=\"categorical\",\n",
    "    shuffle=False,\n",
    "    seed=None)\n",
    "\n",
    "test_dataset = test_datagen.flow_from_directory(\n",
    "    directory = main_path + '/test',\n",
    "    target_size=(224, 224),\n",
    "    color_mode=\"rgb\",\n",
    "    batch_size=150,\n",
    "    class_mode=\"categorical\",\n",
    "    shuffle=False,\n",
    "    seed=None)"
   ]
  },
  {
   "cell_type": "code",
   "execution_count": 5,
   "id": "9541ee29-072f-4ce2-87f4-da8fea98620b",
   "metadata": {},
   "outputs": [
    {
     "name": "stdout",
     "output_type": "stream",
     "text": [
      "Image Shape: (32, 224, 224, 3)\n",
      "Label Shape: (32, 4)\n"
     ]
    }
   ],
   "source": [
    "for image_batch, labels_batch in train_dataset:\n",
    "  print('Image Shape: {}'.format(image_batch.shape))\n",
    "  print('Label Shape: {}'.format(labels_batch.shape))\n",
    "  break"
   ]
  },
  {
   "cell_type": "code",
   "execution_count": 6,
   "id": "75e37f92-7150-435b-b58a-dbd6b09b66ea",
   "metadata": {},
   "outputs": [
    {
     "name": "stdout",
     "output_type": "stream",
     "text": [
      "Downloading data from https://storage.googleapis.com/tensorflow/keras-applications/vgg16/vgg16_weights_tf_dim_ordering_tf_kernels_notop.h5\n",
      "58892288/58889256 [==============================] - 2s 0us/step\n",
      "58900480/58889256 [==============================] - 2s 0us/step\n"
     ]
    }
   ],
   "source": [
    "os.environ[\"CUDA_VISIBLE_DEVICES\"] = \"2\"\n",
    "# Load pre-trained ResNet50 model with pre-trained weights and without top layers\n",
    "base_model = VGG16(weights='imagenet', include_top=False)\n",
    "\n",
    "# Freeze the convolutional layers\n",
    "for layer in base_model.layers:\n",
    "    layer.trainable = False\n",
    "\n",
    "# Add custom classification layers\n",
    "x = base_model.output\n",
    "x = GlobalAveragePooling2D()(x)\n",
    "predictions = Dense(4, activation='softmax')(x)\n",
    "model = Model(inputs=base_model.input, outputs=predictions)\n",
    "\n",
    "# Compile the model\n",
    "model.compile(optimizer=Adam(), loss=categorical_crossentropy, metrics=['accuracy'])"
   ]
  },
  {
   "cell_type": "code",
   "execution_count": 7,
   "id": "93839cf6-30a5-4bd6-b772-6f8803123915",
   "metadata": {},
   "outputs": [
    {
     "name": "stdout",
     "output_type": "stream",
     "text": [
      "Epoch 1/50\n",
      "463/463 [==============================] - 104s 216ms/step - loss: 0.9691 - accuracy: 0.5931 - val_loss: 0.8423 - val_accuracy: 0.6767\n",
      "Epoch 2/50\n",
      "463/463 [==============================] - 97s 208ms/step - loss: 0.7876 - accuracy: 0.6910 - val_loss: 0.7409 - val_accuracy: 0.7178\n",
      "Epoch 3/50\n",
      "463/463 [==============================] - 91s 197ms/step - loss: 0.7106 - accuracy: 0.7374 - val_loss: 0.6748 - val_accuracy: 0.7574\n",
      "Epoch 4/50\n",
      "463/463 [==============================] - 86s 185ms/step - loss: 0.6616 - accuracy: 0.7605 - val_loss: 0.6337 - val_accuracy: 0.7787\n",
      "Epoch 5/50\n",
      "463/463 [==============================] - 88s 191ms/step - loss: 0.6250 - accuracy: 0.7794 - val_loss: 0.6241 - val_accuracy: 0.7758\n",
      "Epoch 6/50\n",
      "463/463 [==============================] - 89s 193ms/step - loss: 0.5995 - accuracy: 0.7880 - val_loss: 0.5810 - val_accuracy: 0.7820\n",
      "Epoch 7/50\n",
      "463/463 [==============================] - 86s 185ms/step - loss: 0.5750 - accuracy: 0.7992 - val_loss: 0.5552 - val_accuracy: 0.8013\n",
      "Epoch 8/50\n",
      "463/463 [==============================] - 92s 200ms/step - loss: 0.5572 - accuracy: 0.8052 - val_loss: 0.5385 - val_accuracy: 0.8079\n",
      "Epoch 9/50\n",
      "463/463 [==============================] - 92s 198ms/step - loss: 0.5416 - accuracy: 0.8116 - val_loss: 0.5279 - val_accuracy: 0.8103\n",
      "Epoch 10/50\n",
      "463/463 [==============================] - 92s 198ms/step - loss: 0.5279 - accuracy: 0.8153 - val_loss: 0.5118 - val_accuracy: 0.8240\n",
      "Epoch 11/50\n",
      "463/463 [==============================] - 94s 204ms/step - loss: 0.5158 - accuracy: 0.8192 - val_loss: 0.5003 - val_accuracy: 0.8226\n",
      "Epoch 12/50\n",
      "463/463 [==============================] - 91s 196ms/step - loss: 0.5062 - accuracy: 0.8240 - val_loss: 0.4952 - val_accuracy: 0.8249\n",
      "Epoch 13/50\n",
      "463/463 [==============================] - 92s 200ms/step - loss: 0.4962 - accuracy: 0.8298 - val_loss: 0.4815 - val_accuracy: 0.8315\n",
      "Epoch 14/50\n",
      "463/463 [==============================] - 96s 206ms/step - loss: 0.4882 - accuracy: 0.8306 - val_loss: 0.4776 - val_accuracy: 0.8292\n",
      "Epoch 15/50\n",
      "463/463 [==============================] - 91s 198ms/step - loss: 0.4805 - accuracy: 0.8338 - val_loss: 0.4755 - val_accuracy: 0.8296\n",
      "Epoch 16/50\n",
      "463/463 [==============================] - 96s 208ms/step - loss: 0.4734 - accuracy: 0.8373 - val_loss: 0.4627 - val_accuracy: 0.8386\n",
      "Epoch 17/50\n",
      "463/463 [==============================] - 93s 201ms/step - loss: 0.4673 - accuracy: 0.8378 - val_loss: 0.4618 - val_accuracy: 0.8400\n",
      "Epoch 18/50\n",
      "463/463 [==============================] - 90s 195ms/step - loss: 0.4625 - accuracy: 0.8386 - val_loss: 0.4522 - val_accuracy: 0.8438\n",
      "Epoch 19/50\n",
      "463/463 [==============================] - 91s 196ms/step - loss: 0.4562 - accuracy: 0.8422 - val_loss: 0.4465 - val_accuracy: 0.8410\n",
      "Epoch 20/50\n",
      "463/463 [==============================] - 93s 200ms/step - loss: 0.4512 - accuracy: 0.8423 - val_loss: 0.4407 - val_accuracy: 0.8499\n",
      "Epoch 21/50\n",
      "463/463 [==============================] - 92s 199ms/step - loss: 0.4462 - accuracy: 0.8459 - val_loss: 0.4356 - val_accuracy: 0.8471\n",
      "Epoch 22/50\n",
      "463/463 [==============================] - 92s 199ms/step - loss: 0.4413 - accuracy: 0.8476 - val_loss: 0.4351 - val_accuracy: 0.8433\n",
      "Epoch 23/50\n",
      "463/463 [==============================] - 97s 210ms/step - loss: 0.4391 - accuracy: 0.8473 - val_loss: 0.4282 - val_accuracy: 0.8518\n",
      "Epoch 24/50\n",
      "463/463 [==============================] - 96s 207ms/step - loss: 0.4333 - accuracy: 0.8512 - val_loss: 0.4260 - val_accuracy: 0.8523\n",
      "Epoch 25/50\n",
      "463/463 [==============================] - 96s 207ms/step - loss: 0.4304 - accuracy: 0.8510 - val_loss: 0.4243 - val_accuracy: 0.8504\n",
      "Epoch 26/50\n",
      "463/463 [==============================] - 97s 208ms/step - loss: 0.4269 - accuracy: 0.8523 - val_loss: 0.4228 - val_accuracy: 0.8537\n",
      "Epoch 27/50\n",
      "463/463 [==============================] - 93s 200ms/step - loss: 0.4239 - accuracy: 0.8511 - val_loss: 0.4154 - val_accuracy: 0.8556\n",
      "Epoch 28/50\n",
      "463/463 [==============================] - 92s 199ms/step - loss: 0.4217 - accuracy: 0.8545 - val_loss: 0.4162 - val_accuracy: 0.8537\n",
      "Epoch 29/50\n",
      "463/463 [==============================] - 93s 201ms/step - loss: 0.4181 - accuracy: 0.8530 - val_loss: 0.4121 - val_accuracy: 0.8565\n",
      "Epoch 30/50\n",
      "463/463 [==============================] - 93s 201ms/step - loss: 0.4162 - accuracy: 0.8551 - val_loss: 0.4101 - val_accuracy: 0.8570\n",
      "Epoch 31/50\n",
      "463/463 [==============================] - 92s 198ms/step - loss: 0.4124 - accuracy: 0.8553 - val_loss: 0.4111 - val_accuracy: 0.8546\n",
      "Epoch 32/50\n",
      "463/463 [==============================] - 95s 205ms/step - loss: 0.4101 - accuracy: 0.8572 - val_loss: 0.4052 - val_accuracy: 0.8594\n",
      "Epoch 33/50\n",
      "463/463 [==============================] - 96s 207ms/step - loss: 0.4082 - accuracy: 0.8586 - val_loss: 0.4043 - val_accuracy: 0.8613\n",
      "Epoch 34/50\n",
      "463/463 [==============================] - 92s 198ms/step - loss: 0.4057 - accuracy: 0.8596 - val_loss: 0.4007 - val_accuracy: 0.8613\n",
      "Epoch 35/50\n",
      "463/463 [==============================] - 96s 208ms/step - loss: 0.4032 - accuracy: 0.8589 - val_loss: 0.4051 - val_accuracy: 0.8636\n",
      "Epoch 36/50\n",
      "463/463 [==============================] - 96s 208ms/step - loss: 0.4014 - accuracy: 0.8607 - val_loss: 0.3945 - val_accuracy: 0.8646\n",
      "Epoch 37/50\n",
      "463/463 [==============================] - 101s 219ms/step - loss: 0.3992 - accuracy: 0.8617 - val_loss: 0.3944 - val_accuracy: 0.8679\n",
      "Epoch 38/50\n",
      "463/463 [==============================] - 103s 223ms/step - loss: 0.3970 - accuracy: 0.8610 - val_loss: 0.3942 - val_accuracy: 0.8669\n",
      "Epoch 39/50\n",
      "463/463 [==============================] - 100s 216ms/step - loss: 0.3949 - accuracy: 0.8627 - val_loss: 0.3957 - val_accuracy: 0.8646\n",
      "Epoch 40/50\n",
      "463/463 [==============================] - 106s 230ms/step - loss: 0.3931 - accuracy: 0.8632 - val_loss: 0.3897 - val_accuracy: 0.8660\n",
      "Epoch 41/50\n",
      "463/463 [==============================] - 110s 237ms/step - loss: 0.3917 - accuracy: 0.8629 - val_loss: 0.3882 - val_accuracy: 0.8669\n",
      "Epoch 42/50\n",
      "463/463 [==============================] - 114s 247ms/step - loss: 0.3893 - accuracy: 0.8640 - val_loss: 0.3874 - val_accuracy: 0.8650\n",
      "Epoch 43/50\n",
      "463/463 [==============================] - 104s 225ms/step - loss: 0.3886 - accuracy: 0.8651 - val_loss: 0.3870 - val_accuracy: 0.8627\n",
      "Epoch 44/50\n",
      "463/463 [==============================] - 104s 225ms/step - loss: 0.3862 - accuracy: 0.8642 - val_loss: 0.3823 - val_accuracy: 0.8697\n",
      "Epoch 45/50\n",
      "463/463 [==============================] - 103s 223ms/step - loss: 0.3844 - accuracy: 0.8658 - val_loss: 0.3845 - val_accuracy: 0.8683\n",
      "Epoch 46/50\n",
      "463/463 [==============================] - 103s 223ms/step - loss: 0.3835 - accuracy: 0.8670 - val_loss: 0.3830 - val_accuracy: 0.8688\n",
      "Epoch 47/50\n",
      "463/463 [==============================] - 107s 230ms/step - loss: 0.3823 - accuracy: 0.8665 - val_loss: 0.3789 - val_accuracy: 0.8683\n",
      "Epoch 48/50\n",
      "463/463 [==============================] - 111s 239ms/step - loss: 0.3807 - accuracy: 0.8681 - val_loss: 0.3771 - val_accuracy: 0.8702\n",
      "Epoch 49/50\n",
      "463/463 [==============================] - 98s 213ms/step - loss: 0.3799 - accuracy: 0.8673 - val_loss: 0.3812 - val_accuracy: 0.8688\n",
      "Epoch 50/50\n",
      "463/463 [==============================] - 96s 208ms/step - loss: 0.3777 - accuracy: 0.8679 - val_loss: 0.3762 - val_accuracy: 0.8721\n"
     ]
    }
   ],
   "source": [
    "history = model.fit(train_dataset, validation_data=val_dataset,  epochs=50)"
   ]
  },
  {
   "cell_type": "code",
   "execution_count": 9,
   "id": "5a114f40",
   "metadata": {},
   "outputs": [
    {
     "data": {
      "text/plain": [
       "<matplotlib.legend.Legend at 0x7fa299f6e520>"
      ]
     },
     "execution_count": 9,
     "metadata": {},
     "output_type": "execute_result"
    },
    {
     "data": {
      "image/png": "[encoded data removed]",
      "text/plain": [
       "<Figure size 1440x1440 with 2 Axes>"
      ]
     },
     "metadata": {
      "needs_background": "light"
     },
     "output_type": "display_data"
    }
   ],
   "source": [
    "plt.figure(figsize = (20, 20))\n",
    "plt.subplot(341)\n",
    "plt.plot(history.history['loss'], color='blue', linestyle = 'dashdot', label='Train')\n",
    "plt.plot(history.history['val_loss'], color='red', linestyle=\"solid\", label='Val')\n",
    "plt.xlabel('Epoch')\n",
    "plt.ylabel('Loss')\n",
    "plt.title('Loss')\n",
    "plt.grid(visible = True, which = 'both', color= 'r', linestyle = 'dotted')\n",
    "plt.legend()\n",
    "\n",
    "plt.subplot(343)\n",
    "plt.plot(history.history['accuracy'], color='blue', linestyle = 'dashdot', label='Train')\n",
    "plt.plot(history.history['val_accuracy'], color='red', linestyle=\"solid\", label='Val')\n",
    "# plt.xticks(np.arange(0, 31, step=2))  # Set label locations.\n",
    "plt.xlabel('Epoch')\n",
    "plt.ylabel('Accuracy')\n",
    "plt.title('Accuracy')\n",
    "plt.grid(visible = True, which = 'both', color= 'r', linestyle = 'dotted')\n",
    "plt.legend()"
   ]
  },
  {
   "cell_type": "code",
   "execution_count": 10,
   "id": "2fadc931",
   "metadata": {},
   "outputs": [
    {
     "name": "stdout",
     "output_type": "stream",
     "text": [
      "29/29 [==============================] - 25s 868ms/step - loss: 0.3900 - accuracy: 0.8638\n"
     ]
    }
   ],
   "source": [
    "test_result = model.evaluate(test_dataset, batch_size = 128)"
   ]
  },
  {
   "cell_type": "code",
   "execution_count": 11,
   "id": "57cb5b11",
   "metadata": {
    "scrolled": true
   },
   "outputs": [
    {
     "name": "stdout",
     "output_type": "stream",
     "text": [
      "Test Loss: 0.39004817605018616\n",
      "Test Accuracy: 0.8637544512748718\n"
     ]
    }
   ],
   "source": [
    "print('Test Loss: {}'.format(test_result[0]))\n",
    "print('Test Accuracy: {}'.format(test_result[1]))"
   ]
  },
  {
   "cell_type": "code",
   "execution_count": 13,
   "id": "65da0043",
   "metadata": {},
   "outputs": [],
   "source": [
    "class_names = list(train_dataset.class_indices)"
   ]
  },
  {
   "cell_type": "code",
   "execution_count": 14,
   "id": "0859f66a",
   "metadata": {},
   "outputs": [
    {
     "data": {
      "image/png": "[encoded data removed]",
      "text/plain": [
       "<Figure size 720x576 with 2 Axes>"
      ]
     },
     "metadata": {
      "needs_background": "light"
     },
     "output_type": "display_data"
    }
   ],
   "source": [
    "label_names = class_names\n",
    "y_pred = model.predict(test_dataset, batch_size=128)\n",
    "y_test = test_dataset.labels\n",
    "cm = tf.math.confusion_matrix(y_test, \n",
    "                              y_pred.argmax(axis=1),\n",
    "                              num_classes = 4)\n",
    "plt.figure(figsize=(10, 8))\n",
    "sns.heatmap(cm, xticklabels=class_names, yticklabels=class_names, \n",
    "              annot=True, fmt='g')\n",
    "plt.xlabel('Prediction')\n",
    "plt.ylabel('Label')\n",
    "plt.savefig('CM.png', dpi = 300)\n",
    "plt.show()"
   ]
  },
  {
   "cell_type": "code",
   "execution_count": null,
   "id": "43f3a767",
   "metadata": {},
   "outputs": [],
   "source": []
  }
 ],
 "metadata": {
  "kernelspec": {
   "display_name": "Python 3",
   "language": "python",
   "name": "python3"
  },
  "language_info": {
   "codemirror_mode": {
    "name": "ipython",
    "version": 3
   },
   "file_extension": ".py",
   "mimetype": "text/x-python",
   "name": "python",
   "nbconvert_exporter": "python",
   "pygments_lexer": "ipython3",
   "version": "3.8.8"
  }
 },
 "nbformat": 4,
 "nbformat_minor": 5
}
