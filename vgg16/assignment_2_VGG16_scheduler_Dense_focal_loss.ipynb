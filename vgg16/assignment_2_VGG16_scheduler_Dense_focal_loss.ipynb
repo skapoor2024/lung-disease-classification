{
 "cells": [
  {
   "cell_type": "code",
   "execution_count": 1,
   "id": "e8f3d50b",
   "metadata": {},
   "outputs": [],
   "source": [
    "import random\n",
    "import numpy as np\n",
    "import tensorflow as tf\n",
    "import matplotlib.pyplot as plt\n",
    "import seaborn as sns\n",
    "import PIL.Image as Image\n",
    "import os\n",
    "import math"
   ]
  },
  {
   "cell_type": "code",
   "execution_count": 2,
   "id": "02b24784-719a-473c-ad68-e0cbfa4cd905",
   "metadata": {},
   "outputs": [],
   "source": [
    "import tensorflow as tf\n",
    "from tensorflow.keras.applications import VGG16\n",
    "from tensorflow.keras.models import Model\n",
    "from tensorflow.keras.layers import Dense, GlobalAveragePooling2D\n",
    "from tensorflow.keras.optimizers import Adam\n",
    "from tensorflow.keras.losses import categorical_crossentropy\n",
    "from tensorflow.keras.utils import to_categorical\n",
    "from tensorflow.keras.callbacks import LearningRateScheduler\n",
    "from tensorflow.keras.callbacks import EarlyStopping"
   ]
  },
  {
   "cell_type": "code",
   "execution_count": 3,
   "id": "29cf4402",
   "metadata": {},
   "outputs": [],
   "source": [
    "from sklearn.utils.class_weight import compute_class_weight"
   ]
  },
  {
   "cell_type": "code",
   "execution_count": 4,
   "id": "ce9d0ff1",
   "metadata": {},
   "outputs": [],
   "source": [
    "def lr_schedule(epoch):\n",
    "    initial_lr = 0.001 \n",
    "    drop = 0.5  \n",
    "    epochs_drop = 10 \n",
    "    lr = initial_lr * math.pow(drop, math.floor((1 + epoch) / epochs_drop))\n",
    "    return max(lr,0.0001)"
   ]
  },
  {
   "cell_type": "code",
   "execution_count": 5,
   "id": "63880daa",
   "metadata": {},
   "outputs": [],
   "source": [
    "def constant_to_tensor(x, dtype):\n",
    "    \n",
    "    return tf.constant(x, dtype=dtype)"
   ]
  },
  {
   "cell_type": "code",
   "execution_count": 6,
   "id": "8da720d4",
   "metadata": {},
   "outputs": [],
   "source": [
    "def focal_categorical_crossentropy(target,output,alpha = 1.0,gamma = 2.0,axis = -1):\n",
    "    \n",
    "    target = tf.convert_to_tensor(target)\n",
    "    output = tf.convert_to_tensor(output)\n",
    "    target.shape.assert_is_compatible_with(output.shape)\n",
    "    output = output / tf.reduce_sum(output, axis=axis, keepdims=True)\n",
    "\n",
    "    epsilon_ = constant_to_tensor(1e-7, output.dtype.base_dtype)\n",
    "    output = tf.clip_by_value(output, epsilon_, 1.0 - epsilon_)\n",
    "\n",
    "    # Calculate cross entropy\n",
    "    cce = -target * tf.math.log(output)\n",
    "\n",
    "    # Calculate factors\n",
    "    modulating_factor = tf.pow(1.0 - output, gamma)\n",
    "    weighting_factor = tf.multiply(modulating_factor, alpha)\n",
    "\n",
    "    # Apply weighting factor\n",
    "    focal_cce = tf.multiply(weighting_factor, cce)\n",
    "    focal_cce = tf.reduce_sum(focal_cce, axis=axis)\n",
    "    return focal_cce"
   ]
  },
  {
   "cell_type": "code",
   "execution_count": 7,
   "id": "f612bdf1",
   "metadata": {},
   "outputs": [],
   "source": [
    "early_stopping = EarlyStopping(monitor='val_loss', patience=20, restore_best_weights=True)\n",
    "\n",
    "gpus = tf.config.experimental.list_physical_devices('GPU')\n",
    "if gpus:\n",
    "    for gpu in gpus:\n",
    "        tf.config.experimental.set_memory_growth(gpu, True)"
   ]
  },
  {
   "cell_type": "code",
   "execution_count": 8,
   "id": "ff5a84a9",
   "metadata": {},
   "outputs": [],
   "source": [
    "train_datagen = tf.keras.preprocessing.image.ImageDataGenerator(\n",
    "    #horizontal_flip=True,\n",
    "    #vertical_flip=True,\n",
    "    rescale=1./255.0)\n",
    "test_datagen = tf.keras.preprocessing.image.ImageDataGenerator(rescale=1./255)\n",
    "val_datagen = tf.keras.preprocessing.image.ImageDataGenerator(rescale=1./255)"
   ]
  },
  {
   "cell_type": "code",
   "execution_count": 9,
   "id": "16131236",
   "metadata": {},
   "outputs": [
    {
     "name": "stdout",
     "output_type": "stream",
     "text": [
      "Found 14811 images belonging to 4 classes.\n",
      "Found 2119 images belonging to 4 classes.\n",
      "Found 4235 images belonging to 4 classes.\n"
     ]
    }
   ],
   "source": [
    "main_path = os.getcwd() + '/covid_data'\n",
    "\n",
    "train_dataset = train_datagen.flow_from_directory(\n",
    "    directory= main_path + '/train/',\n",
    "    target_size=(224, 224),\n",
    "    color_mode=\"rgb\",\n",
    "    batch_size=32,\n",
    "    class_mode=\"categorical\",\n",
    "    shuffle=True,\n",
    "    seed=None)\n",
    "\n",
    "val_dataset = val_datagen.flow_from_directory(\n",
    "    directory = main_path + '/validation',\n",
    "    target_size=(224, 224),\n",
    "    color_mode=\"rgb\",\n",
    "    batch_size=32,\n",
    "    class_mode=\"categorical\",\n",
    "    shuffle=False,\n",
    "    seed=None)\n",
    "\n",
    "test_dataset = test_datagen.flow_from_directory(\n",
    "    directory = main_path + '/test',\n",
    "    target_size=(224, 224),\n",
    "    color_mode=\"rgb\",\n",
    "    batch_size=32,\n",
    "    class_mode=\"categorical\",\n",
    "    shuffle=False,\n",
    "    seed=None)"
   ]
  },
  {
   "cell_type": "code",
   "execution_count": 10,
   "id": "9541ee29-072f-4ce2-87f4-da8fea98620b",
   "metadata": {},
   "outputs": [
    {
     "name": "stdout",
     "output_type": "stream",
     "text": [
      "Image Shape: (32, 224, 224, 3)\n",
      "Label Shape: (32, 4)\n"
     ]
    }
   ],
   "source": [
    "for image_batch, labels_batch in train_dataset:\n",
    "  print('Image Shape: {}'.format(image_batch.shape))\n",
    "  print('Label Shape: {}'.format(labels_batch.shape))\n",
    "  break"
   ]
  },
  {
   "cell_type": "code",
   "execution_count": 11,
   "id": "65d8b9c9",
   "metadata": {},
   "outputs": [],
   "source": [
    "class_weights = np.round(compute_class_weight('balanced',classes = np.arange(train_dataset.num_classes),y = train_dataset.labels),2)\n",
    "class_weights_dict = dict(zip(np.arange(train_dataset.num_classes), class_weights))"
   ]
  },
  {
   "cell_type": "code",
   "execution_count": 12,
   "id": "75e37f92-7150-435b-b58a-dbd6b09b66ea",
   "metadata": {},
   "outputs": [
    {
     "name": "stdout",
     "output_type": "stream",
     "text": [
      "INFO:tensorflow:Using MirroredStrategy with devices ('/job:localhost/replica:0/task:0/device:GPU:0', '/job:localhost/replica:0/task:0/device:GPU:1', '/job:localhost/replica:0/task:0/device:GPU:2', '/job:localhost/replica:0/task:0/device:GPU:3')\n",
      "INFO:tensorflow:Reduce to /job:localhost/replica:0/task:0/device:CPU:0 then broadcast to ('/job:localhost/replica:0/task:0/device:CPU:0',).\n",
      "INFO:tensorflow:Reduce to /job:localhost/replica:0/task:0/device:CPU:0 then broadcast to ('/job:localhost/replica:0/task:0/device:CPU:0',).\n",
      "INFO:tensorflow:Reduce to /job:localhost/replica:0/task:0/device:CPU:0 then broadcast to ('/job:localhost/replica:0/task:0/device:CPU:0',).\n",
      "INFO:tensorflow:Reduce to /job:localhost/replica:0/task:0/device:CPU:0 then broadcast to ('/job:localhost/replica:0/task:0/device:CPU:0',).\n",
      "Epoch 1/75\n",
      "INFO:tensorflow:batch_all_reduce: 6 all-reduces with algorithm = nccl, num_packs = 1\n",
      "INFO:tensorflow:Reduce to /job:localhost/replica:0/task:0/device:CPU:0 then broadcast to ('/job:localhost/replica:0/task:0/device:CPU:0',).\n",
      "INFO:tensorflow:Reduce to /job:localhost/replica:0/task:0/device:CPU:0 then broadcast to ('/job:localhost/replica:0/task:0/device:CPU:0',).\n",
      "INFO:tensorflow:Reduce to /job:localhost/replica:0/task:0/device:CPU:0 then broadcast to ('/job:localhost/replica:0/task:0/device:CPU:0',).\n",
      "INFO:tensorflow:Reduce to /job:localhost/replica:0/task:0/device:CPU:0 then broadcast to ('/job:localhost/replica:0/task:0/device:CPU:0',).\n",
      "INFO:tensorflow:batch_all_reduce: 6 all-reduces with algorithm = nccl, num_packs = 1\n",
      "INFO:tensorflow:Reduce to /job:localhost/replica:0/task:0/device:CPU:0 then broadcast to ('/job:localhost/replica:0/task:0/device:CPU:0',).\n",
      "INFO:tensorflow:Reduce to /job:localhost/replica:0/task:0/device:CPU:0 then broadcast to ('/job:localhost/replica:0/task:0/device:CPU:0',).\n",
      "463/463 [==============================] - 88s 169ms/step - loss: 0.2922 - categorical_accuracy: 0.7369 - val_loss: 0.1890 - val_categorical_accuracy: 0.8240\n",
      "Epoch 2/75\n",
      "463/463 [==============================] - 81s 174ms/step - loss: 0.1844 - categorical_accuracy: 0.8188 - val_loss: 0.1406 - val_categorical_accuracy: 0.8589\n",
      "Epoch 3/75\n",
      "463/463 [==============================] - 83s 180ms/step - loss: 0.1553 - categorical_accuracy: 0.8444 - val_loss: 0.1566 - val_categorical_accuracy: 0.8325\n",
      "Epoch 4/75\n",
      "463/463 [==============================] - 80s 172ms/step - loss: 0.1433 - categorical_accuracy: 0.8527 - val_loss: 0.1238 - val_categorical_accuracy: 0.8759\n",
      "Epoch 5/75\n",
      "463/463 [==============================] - 86s 186ms/step - loss: 0.1299 - categorical_accuracy: 0.8638 - val_loss: 0.1274 - val_categorical_accuracy: 0.8683\n",
      "Epoch 6/75\n",
      "463/463 [==============================] - 92s 198ms/step - loss: 0.1180 - categorical_accuracy: 0.8717 - val_loss: 0.1409 - val_categorical_accuracy: 0.8697\n",
      "Epoch 7/75\n",
      "463/463 [==============================] - 90s 195ms/step - loss: 0.1141 - categorical_accuracy: 0.8760 - val_loss: 0.1138 - val_categorical_accuracy: 0.8825\n",
      "Epoch 8/75\n",
      "463/463 [==============================] - 90s 195ms/step - loss: 0.1122 - categorical_accuracy: 0.8757 - val_loss: 0.1019 - val_categorical_accuracy: 0.8924\n",
      "Epoch 9/75\n",
      "463/463 [==============================] - 91s 197ms/step - loss: 0.1045 - categorical_accuracy: 0.8825 - val_loss: 0.1199 - val_categorical_accuracy: 0.8834\n",
      "Epoch 10/75\n",
      "463/463 [==============================] - 93s 200ms/step - loss: 0.0860 - categorical_accuracy: 0.9006 - val_loss: 0.1061 - val_categorical_accuracy: 0.8924\n",
      "Epoch 11/75\n",
      "463/463 [==============================] - 94s 203ms/step - loss: 0.0819 - categorical_accuracy: 0.9010 - val_loss: 0.0934 - val_categorical_accuracy: 0.9033\n",
      "Epoch 12/75\n",
      "463/463 [==============================] - 93s 201ms/step - loss: 0.0805 - categorical_accuracy: 0.9058 - val_loss: 0.0951 - val_categorical_accuracy: 0.9047\n",
      "Epoch 13/75\n",
      "463/463 [==============================] - 107s 231ms/step - loss: 0.0817 - categorical_accuracy: 0.9045 - val_loss: 0.0965 - val_categorical_accuracy: 0.8891\n",
      "Epoch 14/75\n",
      "463/463 [==============================] - 103s 222ms/step - loss: 0.0770 - categorical_accuracy: 0.9026 - val_loss: 0.1183 - val_categorical_accuracy: 0.8697\n",
      "Epoch 15/75\n",
      "463/463 [==============================] - 92s 198ms/step - loss: 0.0769 - categorical_accuracy: 0.9054 - val_loss: 0.0942 - val_categorical_accuracy: 0.9004\n",
      "Epoch 16/75\n",
      "463/463 [==============================] - 96s 207ms/step - loss: 0.0723 - categorical_accuracy: 0.9122 - val_loss: 0.0947 - val_categorical_accuracy: 0.9033\n",
      "Epoch 17/75\n",
      "463/463 [==============================] - 98s 212ms/step - loss: 0.0709 - categorical_accuracy: 0.9082 - val_loss: 0.0926 - val_categorical_accuracy: 0.8962\n",
      "Epoch 18/75\n",
      "463/463 [==============================] - 106s 229ms/step - loss: 0.0726 - categorical_accuracy: 0.9087 - val_loss: 0.0884 - val_categorical_accuracy: 0.9113\n",
      "Epoch 19/75\n",
      "463/463 [==============================] - 97s 210ms/step - loss: 0.0688 - categorical_accuracy: 0.9120 - val_loss: 0.1361 - val_categorical_accuracy: 0.8839\n",
      "Epoch 20/75\n",
      "463/463 [==============================] - 99s 214ms/step - loss: 0.0586 - categorical_accuracy: 0.9222 - val_loss: 0.0925 - val_categorical_accuracy: 0.9066\n",
      "Epoch 21/75\n",
      "463/463 [==============================] - 107s 232ms/step - loss: 0.0572 - categorical_accuracy: 0.9253 - val_loss: 0.1009 - val_categorical_accuracy: 0.9066\n",
      "Epoch 22/75\n",
      "463/463 [==============================] - 101s 218ms/step - loss: 0.0568 - categorical_accuracy: 0.9240 - val_loss: 0.0995 - val_categorical_accuracy: 0.8976\n",
      "Epoch 23/75\n",
      "463/463 [==============================] - 104s 224ms/step - loss: 0.0557 - categorical_accuracy: 0.9274 - val_loss: 0.0999 - val_categorical_accuracy: 0.9080\n",
      "Epoch 24/75\n",
      "463/463 [==============================] - 105s 228ms/step - loss: 0.0548 - categorical_accuracy: 0.9285 - val_loss: 0.0907 - val_categorical_accuracy: 0.9089\n",
      "Epoch 25/75\n",
      "463/463 [==============================] - 108s 234ms/step - loss: 0.0542 - categorical_accuracy: 0.9265 - val_loss: 0.0927 - val_categorical_accuracy: 0.9028\n",
      "Epoch 26/75\n",
      "463/463 [==============================] - 98s 212ms/step - loss: 0.0532 - categorical_accuracy: 0.9289 - val_loss: 0.0952 - val_categorical_accuracy: 0.9070\n",
      "Epoch 27/75\n",
      "463/463 [==============================] - 90s 195ms/step - loss: 0.0512 - categorical_accuracy: 0.9290 - val_loss: 0.0970 - val_categorical_accuracy: 0.8990\n",
      "Epoch 28/75\n",
      "463/463 [==============================] - 97s 211ms/step - loss: 0.0512 - categorical_accuracy: 0.9302 - val_loss: 0.0988 - val_categorical_accuracy: 0.9018\n",
      "Epoch 29/75\n",
      "463/463 [==============================] - 105s 227ms/step - loss: 0.0493 - categorical_accuracy: 0.9315 - val_loss: 0.0918 - val_categorical_accuracy: 0.9066\n",
      "Epoch 30/75\n",
      "463/463 [==============================] - 98s 212ms/step - loss: 0.0453 - categorical_accuracy: 0.9384 - val_loss: 0.0936 - val_categorical_accuracy: 0.9009\n",
      "Epoch 31/75\n",
      "463/463 [==============================] - 99s 213ms/step - loss: 0.0431 - categorical_accuracy: 0.9373 - val_loss: 0.0940 - val_categorical_accuracy: 0.9070\n",
      "Epoch 32/75\n",
      "463/463 [==============================] - 99s 213ms/step - loss: 0.0435 - categorical_accuracy: 0.9377 - val_loss: 0.1051 - val_categorical_accuracy: 0.9084\n",
      "Epoch 33/75\n",
      "463/463 [==============================] - 96s 208ms/step - loss: 0.0423 - categorical_accuracy: 0.9397 - val_loss: 0.1122 - val_categorical_accuracy: 0.9066\n",
      "Epoch 34/75\n",
      "463/463 [==============================] - 103s 222ms/step - loss: 0.0419 - categorical_accuracy: 0.9390 - val_loss: 0.1070 - val_categorical_accuracy: 0.9108\n",
      "Epoch 35/75\n",
      "463/463 [==============================] - 104s 225ms/step - loss: 0.0412 - categorical_accuracy: 0.9419 - val_loss: 0.0981 - val_categorical_accuracy: 0.9084\n",
      "Epoch 36/75\n",
      "463/463 [==============================] - 97s 209ms/step - loss: 0.0407 - categorical_accuracy: 0.9432 - val_loss: 0.0993 - val_categorical_accuracy: 0.9089\n",
      "Epoch 37/75\n",
      "463/463 [==============================] - 97s 209ms/step - loss: 0.0404 - categorical_accuracy: 0.9419 - val_loss: 0.1063 - val_categorical_accuracy: 0.9056\n",
      "Epoch 38/75\n"
     ]
    },
    {
     "name": "stdout",
     "output_type": "stream",
     "text": [
      "463/463 [==============================] - 97s 210ms/step - loss: 0.0397 - categorical_accuracy: 0.9438 - val_loss: 0.1048 - val_categorical_accuracy: 0.9103\n"
     ]
    }
   ],
   "source": [
    "strategy = tf.distribute.MirroredStrategy()\n",
    "\n",
    "with strategy.scope():\n",
    "    base_model = VGG16(weights='imagenet', include_top=False)\n",
    "\n",
    "\n",
    "    for layer in base_model.layers:\n",
    "        layer.trainable = False\n",
    "\n",
    "\n",
    "    x = base_model.output\n",
    "    x = GlobalAveragePooling2D()(x)\n",
    "    x = Dense(1024,activation = 'relu')(x)\n",
    "    x= Dense(1024,activation = 'relu')(x)\n",
    "    predictions = Dense(4, activation='softmax')(x)\n",
    "    model = Model(inputs=base_model.input, outputs=predictions)\n",
    "\n",
    "    model.compile(optimizer=Adam(), loss=focal_categorical_crossentropy, metrics=['categorical_accuracy'])\n",
    "    history = model.fit(train_dataset, validation_data=val_dataset,  epochs=75,callbacks = [LearningRateScheduler(lr_schedule),early_stopping])"
   ]
  },
  {
   "cell_type": "code",
   "execution_count": null,
   "id": "fed4230b",
   "metadata": {},
   "outputs": [],
   "source": []
  },
  {
   "cell_type": "code",
   "execution_count": 13,
   "id": "5a114f40",
   "metadata": {},
   "outputs": [
    {
     "data": {
      "text/plain": [
       "<matplotlib.legend.Legend at 0x7f3e2c730640>"
      ]
     },
     "execution_count": 13,
     "metadata": {},
     "output_type": "execute_result"
    },
    {
     "data": {
      "image/png": "[encoded data removed]",
      "text/plain": [
       "<Figure size 1440x1440 with 2 Axes>"
      ]
     },
     "metadata": {
      "needs_background": "light"
     },
     "output_type": "display_data"
    }
   ],
   "source": [
    "plt.figure(figsize = (20, 20))\n",
    "plt.subplot(341)\n",
    "plt.plot(history.history['loss'], color='blue', linestyle = 'dashdot', label='Train')\n",
    "plt.plot(history.history['val_loss'], color='red', linestyle=\"solid\", label='Val')\n",
    "plt.xlabel('Epoch')\n",
    "plt.ylabel('Loss')\n",
    "plt.title('Loss')\n",
    "plt.grid(visible = True, which = 'both', color= 'r', linestyle = 'dotted')\n",
    "plt.legend()\n",
    "\n",
    "plt.subplot(343)\n",
    "plt.plot(history.history['categorical_accuracy'], color='blue', linestyle = 'dashdot', label='Train')\n",
    "plt.plot(history.history['val_categorical_accuracy'], color='red', linestyle=\"solid\", label='Val')\n",
    "# plt.xticks(np.arange(0, 31, step=2))  # Set label locations.\n",
    "plt.xlabel('Epoch')\n",
    "plt.ylabel('Accuracy')\n",
    "plt.title('Accuracy')\n",
    "plt.grid(visible = True, which = 'both', color= 'r', linestyle = 'dotted')\n",
    "plt.legend()"
   ]
  },
  {
   "cell_type": "code",
   "execution_count": 14,
   "id": "ab0a34c4",
   "metadata": {},
   "outputs": [
    {
     "name": "stdout",
     "output_type": "stream",
     "text": [
      "133/133 [==============================] - 28s 205ms/step - loss: 0.0974 - categorical_accuracy: 0.8942\n"
     ]
    }
   ],
   "source": [
    "test_result = model.evaluate(test_dataset, batch_size = 32)"
   ]
  },
  {
   "cell_type": "code",
   "execution_count": 15,
   "id": "5ee9b00b",
   "metadata": {},
   "outputs": [
    {
     "name": "stdout",
     "output_type": "stream",
     "text": [
      "Test Loss: 0.09740816801786423\n",
      "Test Accuracy: 0.8942148685455322\n"
     ]
    }
   ],
   "source": [
    "print('Test Loss: {}'.format(test_result[0]))\n",
    "print('Test Accuracy: {}'.format(test_result[1]))"
   ]
  },
  {
   "cell_type": "code",
   "execution_count": 16,
   "id": "a4aee2f8",
   "metadata": {},
   "outputs": [],
   "source": [
    "class_names = list(train_dataset.class_indices)"
   ]
  },
  {
   "cell_type": "code",
   "execution_count": 17,
   "id": "ae33c759",
   "metadata": {},
   "outputs": [
    {
     "data": {
      "image/png": "[encoded data removed]",
      "text/plain": [
       "<Figure size 720x576 with 2 Axes>"
      ]
     },
     "metadata": {
      "needs_background": "light"
     },
     "output_type": "display_data"
    }
   ],
   "source": [
    "label_names = class_names\n",
    "y_pred = model.predict(test_dataset, batch_size=128)\n",
    "y_test = test_dataset.labels\n",
    "cm = tf.math.confusion_matrix(y_test, \n",
    "                              y_pred.argmax(axis=1),\n",
    "                              num_classes = 4)\n",
    "plt.figure(figsize=(10, 8))\n",
    "sns.heatmap(cm, xticklabels=class_names, yticklabels=class_names, \n",
    "              annot=True, fmt='g')\n",
    "plt.xlabel('Prediction')\n",
    "plt.ylabel('Label')\n",
    "plt.savefig('CM.png', dpi = 300)\n",
    "plt.show()"
   ]
  },
  {
   "cell_type": "code",
   "execution_count": null,
   "id": "5b341b8a",
   "metadata": {},
   "outputs": [],
   "source": []
  }
 ],
 "metadata": {
  "kernelspec": {
   "display_name": "Python 3",
   "language": "python",
   "name": "python3"
  },
  "language_info": {
   "codemirror_mode": {
    "name": "ipython",
    "version": 3
   },
   "file_extension": ".py",
   "mimetype": "text/x-python",
   "name": "python",
   "nbconvert_exporter": "python",
   "pygments_lexer": "ipython3",
   "version": "3.8.8"
  }
 },
 "nbformat": 4,
 "nbformat_minor": 5
}
