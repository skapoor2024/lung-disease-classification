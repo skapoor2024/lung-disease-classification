{
 "cells": [
  {
   "cell_type": "code",
   "execution_count": 3,
   "id": "65b730d1",
   "metadata": {},
   "outputs": [
    {
     "name": "stderr",
     "output_type": "stream",
     "text": [
      "100%|██████████| 941/941 [01:23<00:00, 11.21it/s]\n",
      "100%|██████████| 4207/4207 [06:02<00:00, 11.60it/s]\n",
      "100%|██████████| 2530/2530 [03:33<00:00, 11.85it/s]\n",
      "100%|██████████| 7133/7133 [10:15<00:00, 11.59it/s]\n"
     ]
    }
   ],
   "source": [
    "from tensorflow.keras.preprocessing.image import ImageDataGenerator\n",
    "import os\n",
    "from PIL import Image\n",
    "import numpy as np\n",
    "from tqdm import tqdm\n",
    "\n",
    "\n",
    "datagen = ImageDataGenerator(\n",
    "    rotation_range=30,\n",
    "    width_shift_range=0.1,\n",
    "    height_shift_range=0.1,\n",
    "    shear_range=0.2,\n",
    "    zoom_range=0.2,\n",
    "    horizontal_flip=True,\n",
    "    vertical_flip=False,\n",
    "    fill_mode='nearest'\n",
    ")\n",
    "curr_dir = os.getcwd()\n",
    "\n",
    "original_dataset_dir = os.path.join(curr_dir,'covid_data/train')\n",
    "\n",
    "augmented_dataset_dir = os.path.join(curr_dir,'aug_2_covid_data/train')\n",
    "\n",
    "os.makedirs(augmented_dataset_dir, exist_ok=True)\n",
    "\n",
    "def apply_augmentation(img_path, save_dir, num_augmented=4):\n",
    "    \n",
    "    img = Image.open(img_path).convert('RGB')\n",
    "    img_array = np.array(img)\n",
    "    img_array = np.expand_dims(img_array, axis=0)\n",
    "    \n",
    "    orig_fil_name = os.path.splitext(os.path.basename(img_path))[0]\n",
    "\n",
    "    \n",
    "    i = 0\n",
    "    for batch in datagen.flow(img_array, batch_size=1, save_to_dir=save_dir, save_prefix=orig_fil_name, save_format='jpeg'):\n",
    "        i += 1\n",
    "        if i >= num_augmented:  \n",
    "            break\n",
    "\n",
    "for class_name in os.listdir(original_dataset_dir):\n",
    "    \n",
    "    save_subdir = os.path.join(augmented_dataset_dir, class_name)\n",
    "    os.makedirs(save_subdir, exist_ok=True)\n",
    "    search_dir = os.path.join(original_dataset_dir,class_name)\n",
    "    for file in tqdm(os.listdir(search_dir)):\n",
    "        img_path = os.path.join(search_dir, file)\n",
    "        apply_augmentation(img_path, save_subdir)"
   ]
  },
  {
   "cell_type": "code",
   "execution_count": null,
   "id": "2f782a34",
   "metadata": {},
   "outputs": [],
   "source": [
    "for i, batch in enumerate(datagen.flow(x, batch_size=1, save_to_dir=output_directory, save_prefix=original_file_name, save_format='jpg'), 1):\n",
    "        if i >= num_augmented_images:  # Save the desired number of augmented images\n",
    "            break"
   ]
  },
  {
   "cell_type": "code",
   "execution_count": 10,
   "id": "2c8bf96f",
   "metadata": {},
   "outputs": [],
   "source": [
    "curr_dir = os.getcwd()\n",
    "# Path to the original dataset directory\n",
    "original_dataset_dir = os.path.join(curr_dir,'covid_data/train') "
   ]
  },
  {
   "cell_type": "code",
   "execution_count": 11,
   "id": "bf72ecb7",
   "metadata": {},
   "outputs": [
    {
     "data": {
      "text/plain": [
       "['Viral Pneumonia', 'Lung_Opacity', 'COVID', 'Normal']"
      ]
     },
     "execution_count": 11,
     "metadata": {},
     "output_type": "execute_result"
    }
   ],
   "source": [
    "os.listdir(original_dataset_dir)"
   ]
  },
  {
   "cell_type": "code",
   "execution_count": 5,
   "id": "405effa9",
   "metadata": {},
   "outputs": [
    {
     "data": {
      "text/plain": [
       "'/home/UFAD/s.kapoor/GrainGrowth/skapoor/dl_mis/COVID-19_Radiography_Dataset'"
      ]
     },
     "execution_count": 5,
     "metadata": {},
     "output_type": "execute_result"
    }
   ],
   "source": []
  },
  {
   "cell_type": "code",
   "execution_count": null,
   "id": "33709e99",
   "metadata": {},
   "outputs": [],
   "source": []
  }
 ],
 "metadata": {
  "kernelspec": {
   "display_name": "Python 3",
   "language": "python",
   "name": "python3"
  },
  "language_info": {
   "codemirror_mode": {
    "name": "ipython",
    "version": 3
   },
   "file_extension": ".py",
   "mimetype": "text/x-python",
   "name": "python",
   "nbconvert_exporter": "python",
   "pygments_lexer": "ipython3",
   "version": "3.8.8"
  }
 },
 "nbformat": 4,
 "nbformat_minor": 5
}
